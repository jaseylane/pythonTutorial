{
 "cells": [
  {
   "cell_type": "markdown",
   "id": "6abdef4e",
   "metadata": {},
   "source": [
    "# Lesson 2\n",
    "In this lesson we want to look at Python's in-built data types. We have already seen `str`, `int` and `float`. In addition, Python offers a number of in-built data types including `list`, `dict`, `set`, `tuple`, `range` and, of course, `bool`. \n",
    "\n",
    "For more information (and other data types) you can check out: [Python data types](https://www.w3schools.com/python/python_datatypes.asp)\n",
    "\n",
    "For this tutorial we will focus on the most frequently used data types."
   ]
  },
  {
   "cell_type": "markdown",
   "id": "ab548475",
   "metadata": {},
   "source": [
    "### Lists\n",
    "For a comprehensive overview of lists, see: https://docs.python.org/3/tutorial/datastructures.html"
   ]
  },
  {
   "cell_type": "code",
   "execution_count": 1,
   "id": "80b3cb08",
   "metadata": {},
   "outputs": [
    {
     "name": "stdout",
     "output_type": "stream",
     "text": [
      "[1, 2, 3]\n"
     ]
    }
   ],
   "source": [
    "# Syntax\n",
    "myList = [1, 2, 3]\n",
    "print(myList)"
   ]
  },
  {
   "cell_type": "code",
   "execution_count": 3,
   "id": "8d9dd8d0",
   "metadata": {},
   "outputs": [
    {
     "name": "stdout",
     "output_type": "stream",
     "text": [
      "<class 'list'>\n"
     ]
    }
   ],
   "source": [
    "print(type(myList))"
   ]
  },
  {
   "cell_type": "code",
   "execution_count": 4,
   "id": "d5379943",
   "metadata": {},
   "outputs": [
    {
     "name": "stdout",
     "output_type": "stream",
     "text": [
      "1\n",
      "3\n"
     ]
    }
   ],
   "source": [
    "# We can index lists just as we indexed strings\n",
    "print(myList[0])\n",
    "print(myList[-1])"
   ]
  },
  {
   "cell_type": "code",
   "execution_count": 10,
   "id": "dfa9bcc6",
   "metadata": {},
   "outputs": [
    {
     "name": "stdout",
     "output_type": "stream",
     "text": [
      "[['a', 'b', 'c'], [1, 2, 'This is a sentence.']]\n"
     ]
    }
   ],
   "source": [
    "# The nice thing about lists is that they are very flexible. We can basiclly store anything in a list, including lists.\n",
    "myList1 = ['a', 'b', 'c']\n",
    "myList2 = [1, 2, 'This is a sentence.'] # Note that we can also mix data types in a list.\n",
    "\n",
    "myList = [myList1, myList2]\n",
    "print(myList)"
   ]
  },
  {
   "cell_type": "code",
   "execution_count": 31,
   "id": "5c292caf",
   "metadata": {},
   "outputs": [
    {
     "name": "stdout",
     "output_type": "stream",
     "text": [
      "[1, 2, 3]\n",
      "[1, 2, 3, 4]\n"
     ]
    }
   ],
   "source": [
    "# There are useful methods associated with lists (more about this in the next lesson)\n",
    "# For example, we can add an element to a list\n",
    "myList = [1, 2, 3]\n",
    "print(myList)\n",
    "\n",
    "# Use append method to add an element to a list\n",
    "myList.append(4)\n",
    "print(myList)"
   ]
  },
  {
   "cell_type": "code",
   "execution_count": 32,
   "id": "8a914e14",
   "metadata": {},
   "outputs": [
    {
     "name": "stdout",
     "output_type": "stream",
     "text": [
      "[1, 2, 3]\n"
     ]
    }
   ],
   "source": [
    "# We can remove an element from a list\n",
    "myList.pop() # We could also specify a particular index here. Default behaviour is to remove the last element.\n",
    "print(myList)"
   ]
  },
  {
   "cell_type": "code",
   "execution_count": 33,
   "id": "29c6d985",
   "metadata": {},
   "outputs": [
    {
     "name": "stdout",
     "output_type": "stream",
     "text": [
      "1\n",
      "[3, 2, 1]\n"
     ]
    }
   ],
   "source": [
    "# We can also count the number of times an item appears in the list\n",
    "print(myList.count(2))\n",
    "\n",
    "# And some additional (self-explanatory) methods include\n",
    "myList.reverse()\n",
    "print(myList)"
   ]
  },
  {
   "cell_type": "code",
   "execution_count": 34,
   "id": "50120e3a",
   "metadata": {},
   "outputs": [
    {
     "name": "stdout",
     "output_type": "stream",
     "text": [
      "[1, 2, 3]\n"
     ]
    }
   ],
   "source": [
    "myList.sort()\n",
    "print(myList)"
   ]
  },
  {
   "cell_type": "code",
   "execution_count": null,
   "id": "5f285df0",
   "metadata": {},
   "outputs": [],
   "source": []
  }
 ],
 "metadata": {
  "kernelspec": {
   "display_name": "Python 3 (ipykernel)",
   "language": "python",
   "name": "python3"
  },
  "language_info": {
   "codemirror_mode": {
    "name": "ipython",
    "version": 3
   },
   "file_extension": ".py",
   "mimetype": "text/x-python",
   "name": "python",
   "nbconvert_exporter": "python",
   "pygments_lexer": "ipython3",
   "version": "3.8.5"
  }
 },
 "nbformat": 4,
 "nbformat_minor": 5
}
