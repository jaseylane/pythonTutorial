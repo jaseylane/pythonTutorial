{
 "cells": [
  {
   "cell_type": "markdown",
   "id": "e633cb09",
   "metadata": {},
   "source": [
    "# Lesson 5\n",
    "Now that we have covered some basics, we can have a look a the true power of Python. In this lesson, I want to cover the most widely used libraries in science/economics.\n",
    "\n",
    "The libraries I want to cover are:\n",
    "\n",
    "1. Numpy\n",
    "2. Pandas\n",
    "3. Scipy\n",
    "\n",
    "Since those libraries are huge, I just want to provide an illustration of what they can be used for.\n",
    "\n",
    "Assuming you have already installed the required library (e.g. via pip), all that we have to do to use a library is to import it.\n",
    "\n",
    "### Numpy: Efficient library for linear algebra"
   ]
  },
  {
   "cell_type": "code",
   "execution_count": 11,
   "id": "7edd9230",
   "metadata": {},
   "outputs": [
    {
     "name": "stdout",
     "output_type": "stream",
     "text": [
      "[[1 2]\n",
      " [3 4]]\n"
     ]
    }
   ],
   "source": [
    "# Import numpy and abbreviate it as np\n",
    "import numpy as np\n",
    "\n",
    "# Create array (aka matrix) of ones\n",
    "A = np.array([[1, 2], [3, 4]]) # Note that we are passing in a list of lists!\n",
    "print(A)"
   ]
  },
  {
   "cell_type": "code",
   "execution_count": 12,
   "id": "aaf0fbf9",
   "metadata": {},
   "outputs": [
    {
     "name": "stdout",
     "output_type": "stream",
     "text": [
      "[1 3]\n"
     ]
    }
   ],
   "source": [
    "# Slicing arrays works similar to slicing lists\n",
    "# Grab first column\n",
    "print(A[:, 0]) # Don't forget that Python uses zero-based indexing!"
   ]
  },
  {
   "cell_type": "code",
   "execution_count": 13,
   "id": "e8fd2881",
   "metadata": {},
   "outputs": [
    {
     "name": "stdout",
     "output_type": "stream",
     "text": [
      "[1 2]\n"
     ]
    }
   ],
   "source": [
    "# Grab first row\n",
    "print(A[0, :])"
   ]
  },
  {
   "cell_type": "code",
   "execution_count": 14,
   "id": "8c3a0cf3",
   "metadata": {},
   "outputs": [
    {
     "data": {
      "text/plain": [
       "array([[1., 0.],\n",
       "       [0., 4.]])"
      ]
     },
     "execution_count": 14,
     "metadata": {},
     "output_type": "execute_result"
    }
   ],
   "source": [
    "# Multiplication\n",
    "B = np.eye(2)\n",
    "\n",
    "C = A * B # Note that this syntax will perform element-wise multiplication.\n",
    "C"
   ]
  },
  {
   "cell_type": "code",
   "execution_count": 15,
   "id": "e62b7303",
   "metadata": {},
   "outputs": [
    {
     "data": {
      "text/plain": [
       "array([[1., 2.],\n",
       "       [3., 4.]])"
      ]
     },
     "execution_count": 15,
     "metadata": {},
     "output_type": "execute_result"
    }
   ],
   "source": [
    "C = np.dot(A, B) # np.dot() will perform matrix multiplication.\n",
    "C"
   ]
  },
  {
   "cell_type": "code",
   "execution_count": 16,
   "id": "47b30be4",
   "metadata": {},
   "outputs": [
    {
     "name": "stdout",
     "output_type": "stream",
     "text": [
      "Transpose of matrix A:\n",
      " [[1 3]\n",
      " [2 4]]\n",
      "Inverse of matrix A:\n",
      " [[-2.   1. ]\n",
      " [ 1.5 -0.5]]\n"
     ]
    }
   ],
   "source": [
    "# Transpose and inverse\n",
    "At = A.transpose()\n",
    "print('Transpose of matrix A:\\n', At)\n",
    "\n",
    "# Inverse\n",
    "Ai = np.linalg.inv(A)\n",
    "print('Inverse of matrix A:\\n', Ai)"
   ]
  },
  {
   "cell_type": "markdown",
   "id": "93e3fb2c",
   "metadata": {},
   "source": [
    "As mentioned before, `numpy` is a big and widely used library. For more information, check out the `numpy` homepage: https://numpy.org/"
   ]
  },
  {
   "cell_type": "markdown",
   "id": "02f813ff",
   "metadata": {},
   "source": [
    "### Pandas\n",
    "`pandas` is a Python library for data analysis. According to its website, `pandas` is a fast, powerful, flexible and easy to use open source data analysis and manipulation tool, built on top of the Python programming language.\n",
    "\n",
    "For more information see: https://pandas.pydata.org/"
   ]
  },
  {
   "cell_type": "code",
   "execution_count": 17,
   "id": "48a60be2",
   "metadata": {},
   "outputs": [
    {
     "name": "stdout",
     "output_type": "stream",
     "text": [
      "<class 'pandas.core.series.Series'>\n",
      "\n",
      "0   -0.593023\n",
      "1   -0.944070\n",
      "2   -0.594634\n",
      "3   -1.808245\n",
      "4   -0.383047\n",
      "dtype: float64\n"
     ]
    }
   ],
   "source": [
    "# Let's import the pandas library. The convention is to abbreviate it as 'pd'\n",
    "import pandas as pd\n",
    "\n",
    "# The basic data type in pandas is a pd.Series, which you can think of as a column of your data\n",
    "# Let's create a random pd.Series using numpy\n",
    "s = pd.Series(np.random.randn(5))\n",
    "print(type(s))\n",
    "print() # Just an empty line for readability.\n",
    "print(s)"
   ]
  },
  {
   "cell_type": "code",
   "execution_count": 18,
   "id": "be74f4ba",
   "metadata": {},
   "outputs": [
    {
     "name": "stdout",
     "output_type": "stream",
     "text": [
      "<class 'pandas.core.frame.DataFrame'>\n",
      "\n"
     ]
    },
    {
     "data": {
      "text/html": [
       "<div>\n",
       "<style scoped>\n",
       "    .dataframe tbody tr th:only-of-type {\n",
       "        vertical-align: middle;\n",
       "    }\n",
       "\n",
       "    .dataframe tbody tr th {\n",
       "        vertical-align: top;\n",
       "    }\n",
       "\n",
       "    .dataframe thead th {\n",
       "        text-align: right;\n",
       "    }\n",
       "</style>\n",
       "<table border=\"1\" class=\"dataframe\">\n",
       "  <thead>\n",
       "    <tr style=\"text-align: right;\">\n",
       "      <th></th>\n",
       "      <th>A</th>\n",
       "      <th>B</th>\n",
       "      <th>C</th>\n",
       "    </tr>\n",
       "  </thead>\n",
       "  <tbody>\n",
       "    <tr>\n",
       "      <th>0</th>\n",
       "      <td>0.868957</td>\n",
       "      <td>0.313824</td>\n",
       "      <td>-0.784048</td>\n",
       "    </tr>\n",
       "    <tr>\n",
       "      <th>1</th>\n",
       "      <td>-0.336540</td>\n",
       "      <td>-0.089911</td>\n",
       "      <td>-0.450658</td>\n",
       "    </tr>\n",
       "    <tr>\n",
       "      <th>2</th>\n",
       "      <td>1.635356</td>\n",
       "      <td>-0.541502</td>\n",
       "      <td>0.725621</td>\n",
       "    </tr>\n",
       "    <tr>\n",
       "      <th>3</th>\n",
       "      <td>1.199637</td>\n",
       "      <td>0.097113</td>\n",
       "      <td>-1.433792</td>\n",
       "    </tr>\n",
       "    <tr>\n",
       "      <th>4</th>\n",
       "      <td>-0.475890</td>\n",
       "      <td>-0.876848</td>\n",
       "      <td>-0.498431</td>\n",
       "    </tr>\n",
       "  </tbody>\n",
       "</table>\n",
       "</div>"
      ],
      "text/plain": [
       "          A         B         C\n",
       "0  0.868957  0.313824 -0.784048\n",
       "1 -0.336540 -0.089911 -0.450658\n",
       "2  1.635356 -0.541502  0.725621\n",
       "3  1.199637  0.097113 -1.433792\n",
       "4 -0.475890 -0.876848 -0.498431"
      ]
     },
     "execution_count": 18,
     "metadata": {},
     "output_type": "execute_result"
    }
   ],
   "source": [
    "# Commonly we will work with multiple variables. These are organized in a pd.DataFrame.\n",
    "# Each DataFrame has an index (both for rows and cols). Let's create a pd.DataFrame.\n",
    "df = pd.DataFrame(np.random.randn(8, 3), columns=[\"A\", \"B\", \"C\"])\n",
    "\n",
    "print(type(df))\n",
    "print() # Just an empty line for readability.\n",
    "\n",
    "# Let's check out what this looks like\n",
    "df.head()"
   ]
  },
  {
   "cell_type": "code",
   "execution_count": 19,
   "id": "046b41a6",
   "metadata": {},
   "outputs": [
    {
     "name": "stdout",
     "output_type": "stream",
     "text": [
      "[*********************100%***********************]  1 of 1 completed\n",
      "<class 'pandas.core.frame.DataFrame'>\n"
     ]
    }
   ],
   "source": [
    "# Let's use actual data rather some randomly generated numbers.\n",
    "# We can get some data on stock prices using the package fastquant.\n",
    "# We want to import only one function from fastquant\n",
    "import yfinance as yf\n",
    "\n",
    "# Grab time-series data for GameStop ($GME)\n",
    "df = yf.download('GME', start='2018-01-01', end='2022-02-28')\n",
    "\n",
    "print(type(df))"
   ]
  },
  {
   "cell_type": "code",
   "execution_count": 20,
   "id": "7e310961",
   "metadata": {},
   "outputs": [
    {
     "data": {
      "text/html": [
       "<div>\n",
       "<style scoped>\n",
       "    .dataframe tbody tr th:only-of-type {\n",
       "        vertical-align: middle;\n",
       "    }\n",
       "\n",
       "    .dataframe tbody tr th {\n",
       "        vertical-align: top;\n",
       "    }\n",
       "\n",
       "    .dataframe thead th {\n",
       "        text-align: right;\n",
       "    }\n",
       "</style>\n",
       "<table border=\"1\" class=\"dataframe\">\n",
       "  <thead>\n",
       "    <tr style=\"text-align: right;\">\n",
       "      <th></th>\n",
       "      <th>Open</th>\n",
       "      <th>High</th>\n",
       "      <th>Low</th>\n",
       "      <th>Close</th>\n",
       "      <th>Adj Close</th>\n",
       "      <th>Volume</th>\n",
       "    </tr>\n",
       "    <tr>\n",
       "      <th>Date</th>\n",
       "      <th></th>\n",
       "      <th></th>\n",
       "      <th></th>\n",
       "      <th></th>\n",
       "      <th></th>\n",
       "      <th></th>\n",
       "    </tr>\n",
       "  </thead>\n",
       "  <tbody>\n",
       "    <tr>\n",
       "      <th>2018-01-02</th>\n",
       "      <td>17.959999</td>\n",
       "      <td>18.290001</td>\n",
       "      <td>17.780001</td>\n",
       "      <td>18.260000</td>\n",
       "      <td>15.953856</td>\n",
       "      <td>2832700</td>\n",
       "    </tr>\n",
       "    <tr>\n",
       "      <th>2018-01-03</th>\n",
       "      <td>18.290001</td>\n",
       "      <td>18.370001</td>\n",
       "      <td>17.920000</td>\n",
       "      <td>18.200001</td>\n",
       "      <td>15.901434</td>\n",
       "      <td>3789200</td>\n",
       "    </tr>\n",
       "    <tr>\n",
       "      <th>2018-01-04</th>\n",
       "      <td>18.200001</td>\n",
       "      <td>18.379999</td>\n",
       "      <td>17.959999</td>\n",
       "      <td>18.320000</td>\n",
       "      <td>16.006279</td>\n",
       "      <td>2781300</td>\n",
       "    </tr>\n",
       "    <tr>\n",
       "      <th>2018-01-05</th>\n",
       "      <td>18.379999</td>\n",
       "      <td>18.730000</td>\n",
       "      <td>18.219999</td>\n",
       "      <td>18.680000</td>\n",
       "      <td>16.320812</td>\n",
       "      <td>3019000</td>\n",
       "    </tr>\n",
       "    <tr>\n",
       "      <th>2018-01-08</th>\n",
       "      <td>18.799999</td>\n",
       "      <td>19.400000</td>\n",
       "      <td>18.799999</td>\n",
       "      <td>19.230000</td>\n",
       "      <td>16.801350</td>\n",
       "      <td>3668400</td>\n",
       "    </tr>\n",
       "  </tbody>\n",
       "</table>\n",
       "</div>"
      ],
      "text/plain": [
       "                 Open       High        Low      Close  Adj Close   Volume\n",
       "Date                                                                      \n",
       "2018-01-02  17.959999  18.290001  17.780001  18.260000  15.953856  2832700\n",
       "2018-01-03  18.290001  18.370001  17.920000  18.200001  15.901434  3789200\n",
       "2018-01-04  18.200001  18.379999  17.959999  18.320000  16.006279  2781300\n",
       "2018-01-05  18.379999  18.730000  18.219999  18.680000  16.320812  3019000\n",
       "2018-01-08  18.799999  19.400000  18.799999  19.230000  16.801350  3668400"
      ]
     },
     "execution_count": 20,
     "metadata": {},
     "output_type": "execute_result"
    }
   ],
   "source": [
    "# Inspect\n",
    "df.head()"
   ]
  },
  {
   "cell_type": "code",
   "execution_count": 21,
   "id": "5827be08",
   "metadata": {},
   "outputs": [
    {
     "data": {
      "text/html": [
       "<div>\n",
       "<style scoped>\n",
       "    .dataframe tbody tr th:only-of-type {\n",
       "        vertical-align: middle;\n",
       "    }\n",
       "\n",
       "    .dataframe tbody tr th {\n",
       "        vertical-align: top;\n",
       "    }\n",
       "\n",
       "    .dataframe thead th {\n",
       "        text-align: right;\n",
       "    }\n",
       "</style>\n",
       "<table border=\"1\" class=\"dataframe\">\n",
       "  <thead>\n",
       "    <tr style=\"text-align: right;\">\n",
       "      <th></th>\n",
       "      <th>Open</th>\n",
       "      <th>High</th>\n",
       "      <th>Low</th>\n",
       "      <th>Close</th>\n",
       "      <th>Adj Close</th>\n",
       "      <th>Volume</th>\n",
       "    </tr>\n",
       "  </thead>\n",
       "  <tbody>\n",
       "    <tr>\n",
       "      <th>count</th>\n",
       "      <td>1046.000000</td>\n",
       "      <td>1046.000000</td>\n",
       "      <td>1046.000000</td>\n",
       "      <td>1046.000000</td>\n",
       "      <td>1046.000000</td>\n",
       "      <td>1.046000e+03</td>\n",
       "    </tr>\n",
       "    <tr>\n",
       "      <th>mean</th>\n",
       "      <td>52.590363</td>\n",
       "      <td>55.598604</td>\n",
       "      <td>49.604034</td>\n",
       "      <td>52.246262</td>\n",
       "      <td>51.912474</td>\n",
       "      <td>7.472836e+06</td>\n",
       "    </tr>\n",
       "    <tr>\n",
       "      <th>std</th>\n",
       "      <td>75.759959</td>\n",
       "      <td>80.892671</td>\n",
       "      <td>70.682820</td>\n",
       "      <td>74.849341</td>\n",
       "      <td>75.017554</td>\n",
       "      <td>1.540151e+07</td>\n",
       "    </tr>\n",
       "    <tr>\n",
       "      <th>min</th>\n",
       "      <td>2.850000</td>\n",
       "      <td>2.940000</td>\n",
       "      <td>2.570000</td>\n",
       "      <td>2.800000</td>\n",
       "      <td>2.800000</td>\n",
       "      <td>8.170000e+05</td>\n",
       "    </tr>\n",
       "    <tr>\n",
       "      <th>25%</th>\n",
       "      <td>5.662500</td>\n",
       "      <td>5.902500</td>\n",
       "      <td>5.492500</td>\n",
       "      <td>5.705000</td>\n",
       "      <td>5.705000</td>\n",
       "      <td>2.478650e+06</td>\n",
       "    </tr>\n",
       "    <tr>\n",
       "      <th>50%</th>\n",
       "      <td>13.680000</td>\n",
       "      <td>13.980000</td>\n",
       "      <td>13.340000</td>\n",
       "      <td>13.660000</td>\n",
       "      <td>12.652687</td>\n",
       "      <td>3.723650e+06</td>\n",
       "    </tr>\n",
       "    <tr>\n",
       "      <th>75%</th>\n",
       "      <td>90.532501</td>\n",
       "      <td>97.250000</td>\n",
       "      <td>60.352501</td>\n",
       "      <td>86.697500</td>\n",
       "      <td>86.697500</td>\n",
       "      <td>6.145575e+06</td>\n",
       "    </tr>\n",
       "    <tr>\n",
       "      <th>max</th>\n",
       "      <td>379.709991</td>\n",
       "      <td>483.000000</td>\n",
       "      <td>291.510010</td>\n",
       "      <td>347.510010</td>\n",
       "      <td>347.510010</td>\n",
       "      <td>1.971579e+08</td>\n",
       "    </tr>\n",
       "  </tbody>\n",
       "</table>\n",
       "</div>"
      ],
      "text/plain": [
       "              Open         High          Low        Close    Adj Close  \\\n",
       "count  1046.000000  1046.000000  1046.000000  1046.000000  1046.000000   \n",
       "mean     52.590363    55.598604    49.604034    52.246262    51.912474   \n",
       "std      75.759959    80.892671    70.682820    74.849341    75.017554   \n",
       "min       2.850000     2.940000     2.570000     2.800000     2.800000   \n",
       "25%       5.662500     5.902500     5.492500     5.705000     5.705000   \n",
       "50%      13.680000    13.980000    13.340000    13.660000    12.652687   \n",
       "75%      90.532501    97.250000    60.352501    86.697500    86.697500   \n",
       "max     379.709991   483.000000   291.510010   347.510010   347.510010   \n",
       "\n",
       "             Volume  \n",
       "count  1.046000e+03  \n",
       "mean   7.472836e+06  \n",
       "std    1.540151e+07  \n",
       "min    8.170000e+05  \n",
       "25%    2.478650e+06  \n",
       "50%    3.723650e+06  \n",
       "75%    6.145575e+06  \n",
       "max    1.971579e+08  "
      ]
     },
     "execution_count": 21,
     "metadata": {},
     "output_type": "execute_result"
    }
   ],
   "source": [
    "# Some quick summary stats of the data\n",
    "df.describe()"
   ]
  },
  {
   "cell_type": "code",
   "execution_count": 22,
   "id": "4d9e03d6",
   "metadata": {},
   "outputs": [
    {
     "data": {
      "text/plain": [
       "DatetimeIndex(['2018-01-02', '2018-01-03', '2018-01-04', '2018-01-05',\n",
       "               '2018-01-08', '2018-01-09', '2018-01-10', '2018-01-11',\n",
       "               '2018-01-12', '2018-01-16',\n",
       "               ...\n",
       "               '2022-02-11', '2022-02-14', '2022-02-15', '2022-02-16',\n",
       "               '2022-02-17', '2022-02-18', '2022-02-22', '2022-02-23',\n",
       "               '2022-02-24', '2022-02-25'],\n",
       "              dtype='datetime64[ns]', name='Date', length=1046, freq=None)"
      ]
     },
     "execution_count": 22,
     "metadata": {},
     "output_type": "execute_result"
    }
   ],
   "source": [
    "# Pandas has quite advanced indices. The get_stock_data function returned an pd.DataFrame with a DatetimeIndex.\n",
    "df.index"
   ]
  },
  {
   "cell_type": "code",
   "execution_count": 23,
   "id": "5dbf5b55",
   "metadata": {},
   "outputs": [
    {
     "data": {
      "text/plain": [
       "Date\n",
       "2018-01-02    17.959999\n",
       "2018-01-03    18.290001\n",
       "2018-01-04    18.200001\n",
       "2018-01-05    18.379999\n",
       "2018-01-08    18.799999\n",
       "Name: Open, dtype: float64"
      ]
     },
     "execution_count": 23,
     "metadata": {},
     "output_type": "execute_result"
    }
   ],
   "source": [
    "# We can grab single columns from the pd.DataFrame\n",
    "df['Open'].head()"
   ]
  },
  {
   "cell_type": "code",
   "execution_count": 24,
   "id": "17744f08",
   "metadata": {},
   "outputs": [
    {
     "data": {
      "text/html": [
       "<div>\n",
       "<style scoped>\n",
       "    .dataframe tbody tr th:only-of-type {\n",
       "        vertical-align: middle;\n",
       "    }\n",
       "\n",
       "    .dataframe tbody tr th {\n",
       "        vertical-align: top;\n",
       "    }\n",
       "\n",
       "    .dataframe thead th {\n",
       "        text-align: right;\n",
       "    }\n",
       "</style>\n",
       "<table border=\"1\" class=\"dataframe\">\n",
       "  <thead>\n",
       "    <tr style=\"text-align: right;\">\n",
       "      <th></th>\n",
       "      <th>Open</th>\n",
       "      <th>High</th>\n",
       "      <th>Low</th>\n",
       "      <th>Close</th>\n",
       "      <th>Adj Close</th>\n",
       "      <th>Volume</th>\n",
       "    </tr>\n",
       "    <tr>\n",
       "      <th>Date</th>\n",
       "      <th></th>\n",
       "      <th></th>\n",
       "      <th></th>\n",
       "      <th></th>\n",
       "      <th></th>\n",
       "      <th></th>\n",
       "    </tr>\n",
       "  </thead>\n",
       "  <tbody>\n",
       "    <tr>\n",
       "      <th>2018-01-02</th>\n",
       "      <td>17.959999</td>\n",
       "      <td>18.290001</td>\n",
       "      <td>17.780001</td>\n",
       "      <td>18.260000</td>\n",
       "      <td>15.953856</td>\n",
       "      <td>2832700</td>\n",
       "    </tr>\n",
       "    <tr>\n",
       "      <th>2018-01-03</th>\n",
       "      <td>18.290001</td>\n",
       "      <td>18.370001</td>\n",
       "      <td>17.920000</td>\n",
       "      <td>18.200001</td>\n",
       "      <td>15.901434</td>\n",
       "      <td>3789200</td>\n",
       "    </tr>\n",
       "    <tr>\n",
       "      <th>2018-01-04</th>\n",
       "      <td>18.200001</td>\n",
       "      <td>18.379999</td>\n",
       "      <td>17.959999</td>\n",
       "      <td>18.320000</td>\n",
       "      <td>16.006279</td>\n",
       "      <td>2781300</td>\n",
       "    </tr>\n",
       "    <tr>\n",
       "      <th>2018-01-05</th>\n",
       "      <td>18.379999</td>\n",
       "      <td>18.730000</td>\n",
       "      <td>18.219999</td>\n",
       "      <td>18.680000</td>\n",
       "      <td>16.320812</td>\n",
       "      <td>3019000</td>\n",
       "    </tr>\n",
       "    <tr>\n",
       "      <th>2018-01-08</th>\n",
       "      <td>18.799999</td>\n",
       "      <td>19.400000</td>\n",
       "      <td>18.799999</td>\n",
       "      <td>19.230000</td>\n",
       "      <td>16.801350</td>\n",
       "      <td>3668400</td>\n",
       "    </tr>\n",
       "    <tr>\n",
       "      <th>2018-01-09</th>\n",
       "      <td>19.309999</td>\n",
       "      <td>19.750000</td>\n",
       "      <td>19.309999</td>\n",
       "      <td>19.549999</td>\n",
       "      <td>17.080933</td>\n",
       "      <td>3662600</td>\n",
       "    </tr>\n",
       "    <tr>\n",
       "      <th>2018-01-10</th>\n",
       "      <td>19.389999</td>\n",
       "      <td>19.920000</td>\n",
       "      <td>19.330000</td>\n",
       "      <td>19.680000</td>\n",
       "      <td>17.194519</td>\n",
       "      <td>4012800</td>\n",
       "    </tr>\n",
       "    <tr>\n",
       "      <th>2018-01-11</th>\n",
       "      <td>19.920000</td>\n",
       "      <td>20.309999</td>\n",
       "      <td>19.770000</td>\n",
       "      <td>19.959999</td>\n",
       "      <td>17.439154</td>\n",
       "      <td>4213100</td>\n",
       "    </tr>\n",
       "    <tr>\n",
       "      <th>2018-01-12</th>\n",
       "      <td>18.500000</td>\n",
       "      <td>18.540001</td>\n",
       "      <td>17.629999</td>\n",
       "      <td>17.760000</td>\n",
       "      <td>15.517005</td>\n",
       "      <td>15445800</td>\n",
       "    </tr>\n",
       "    <tr>\n",
       "      <th>2018-01-16</th>\n",
       "      <td>18.000000</td>\n",
       "      <td>18.280001</td>\n",
       "      <td>17.040001</td>\n",
       "      <td>17.160000</td>\n",
       "      <td>14.992780</td>\n",
       "      <td>7852500</td>\n",
       "    </tr>\n",
       "  </tbody>\n",
       "</table>\n",
       "</div>"
      ],
      "text/plain": [
       "                 Open       High        Low      Close  Adj Close    Volume\n",
       "Date                                                                       \n",
       "2018-01-02  17.959999  18.290001  17.780001  18.260000  15.953856   2832700\n",
       "2018-01-03  18.290001  18.370001  17.920000  18.200001  15.901434   3789200\n",
       "2018-01-04  18.200001  18.379999  17.959999  18.320000  16.006279   2781300\n",
       "2018-01-05  18.379999  18.730000  18.219999  18.680000  16.320812   3019000\n",
       "2018-01-08  18.799999  19.400000  18.799999  19.230000  16.801350   3668400\n",
       "2018-01-09  19.309999  19.750000  19.309999  19.549999  17.080933   3662600\n",
       "2018-01-10  19.389999  19.920000  19.330000  19.680000  17.194519   4012800\n",
       "2018-01-11  19.920000  20.309999  19.770000  19.959999  17.439154   4213100\n",
       "2018-01-12  18.500000  18.540001  17.629999  17.760000  15.517005  15445800\n",
       "2018-01-16  18.000000  18.280001  17.040001  17.160000  14.992780   7852500"
      ]
     },
     "execution_count": 24,
     "metadata": {},
     "output_type": "execute_result"
    }
   ],
   "source": [
    "# We can slice rows\n",
    "df[0:10] # by row number"
   ]
  },
  {
   "cell_type": "code",
   "execution_count": 25,
   "id": "31f3f3ad",
   "metadata": {},
   "outputs": [
    {
     "name": "stdout",
     "output_type": "stream",
     "text": [
      "(1046, 6)\n",
      "Our dataframe has 1046 rows and 6 columns.\n"
     ]
    }
   ],
   "source": [
    "# Check out dimensions\n",
    "print(df.shape)\n",
    "print(f'Our dataframe has {df.shape[0]} rows and {df.shape[1]} columns.')"
   ]
  },
  {
   "cell_type": "code",
   "execution_count": 26,
   "id": "e8b13d78",
   "metadata": {},
   "outputs": [
    {
     "data": {
      "text/plain": [
       "Date\n",
       "2018-01-02    1.028684\n",
       "2018-01-03    1.025112\n",
       "2018-01-04    1.023385\n",
       "2018-01-05    1.027991\n",
       "2018-01-08    1.031915\n",
       "Name: ratio_high_low, dtype: float64"
      ]
     },
     "execution_count": 26,
     "metadata": {},
     "output_type": "execute_result"
    }
   ],
   "source": [
    "# We can add a column\n",
    "df['ratio_high_low'] = df.High / df.Low\n",
    "df.ratio_high_low.head()"
   ]
  },
  {
   "cell_type": "code",
   "execution_count": 27,
   "id": "105d4ce9",
   "metadata": {},
   "outputs": [
    {
     "data": {
      "text/html": [
       "<div>\n",
       "<style scoped>\n",
       "    .dataframe tbody tr th:only-of-type {\n",
       "        vertical-align: middle;\n",
       "    }\n",
       "\n",
       "    .dataframe tbody tr th {\n",
       "        vertical-align: top;\n",
       "    }\n",
       "\n",
       "    .dataframe thead th {\n",
       "        text-align: right;\n",
       "    }\n",
       "</style>\n",
       "<table border=\"1\" class=\"dataframe\">\n",
       "  <thead>\n",
       "    <tr style=\"text-align: right;\">\n",
       "      <th></th>\n",
       "      <th>Open</th>\n",
       "      <th>High</th>\n",
       "      <th>Low</th>\n",
       "      <th>Close</th>\n",
       "      <th>Adj Close</th>\n",
       "      <th>Volume</th>\n",
       "      <th>ratio_high_low</th>\n",
       "      <th>log_close</th>\n",
       "    </tr>\n",
       "    <tr>\n",
       "      <th>Date</th>\n",
       "      <th></th>\n",
       "      <th></th>\n",
       "      <th></th>\n",
       "      <th></th>\n",
       "      <th></th>\n",
       "      <th></th>\n",
       "      <th></th>\n",
       "      <th></th>\n",
       "    </tr>\n",
       "  </thead>\n",
       "  <tbody>\n",
       "    <tr>\n",
       "      <th>2018-01-02</th>\n",
       "      <td>17.959999</td>\n",
       "      <td>18.290001</td>\n",
       "      <td>17.780001</td>\n",
       "      <td>18.260000</td>\n",
       "      <td>15.953856</td>\n",
       "      <td>2832700</td>\n",
       "      <td>1.028684</td>\n",
       "      <td>2.904713</td>\n",
       "    </tr>\n",
       "    <tr>\n",
       "      <th>2018-01-03</th>\n",
       "      <td>18.290001</td>\n",
       "      <td>18.370001</td>\n",
       "      <td>17.920000</td>\n",
       "      <td>18.200001</td>\n",
       "      <td>15.901434</td>\n",
       "      <td>3789200</td>\n",
       "      <td>1.025112</td>\n",
       "      <td>2.901422</td>\n",
       "    </tr>\n",
       "    <tr>\n",
       "      <th>2018-01-04</th>\n",
       "      <td>18.200001</td>\n",
       "      <td>18.379999</td>\n",
       "      <td>17.959999</td>\n",
       "      <td>18.320000</td>\n",
       "      <td>16.006279</td>\n",
       "      <td>2781300</td>\n",
       "      <td>1.023385</td>\n",
       "      <td>2.907993</td>\n",
       "    </tr>\n",
       "    <tr>\n",
       "      <th>2018-01-05</th>\n",
       "      <td>18.379999</td>\n",
       "      <td>18.730000</td>\n",
       "      <td>18.219999</td>\n",
       "      <td>18.680000</td>\n",
       "      <td>16.320812</td>\n",
       "      <td>3019000</td>\n",
       "      <td>1.027991</td>\n",
       "      <td>2.927453</td>\n",
       "    </tr>\n",
       "    <tr>\n",
       "      <th>2018-01-08</th>\n",
       "      <td>18.799999</td>\n",
       "      <td>19.400000</td>\n",
       "      <td>18.799999</td>\n",
       "      <td>19.230000</td>\n",
       "      <td>16.801350</td>\n",
       "      <td>3668400</td>\n",
       "      <td>1.031915</td>\n",
       "      <td>2.956472</td>\n",
       "    </tr>\n",
       "  </tbody>\n",
       "</table>\n",
       "</div>"
      ],
      "text/plain": [
       "                 Open       High        Low      Close  Adj Close   Volume  \\\n",
       "Date                                                                         \n",
       "2018-01-02  17.959999  18.290001  17.780001  18.260000  15.953856  2832700   \n",
       "2018-01-03  18.290001  18.370001  17.920000  18.200001  15.901434  3789200   \n",
       "2018-01-04  18.200001  18.379999  17.959999  18.320000  16.006279  2781300   \n",
       "2018-01-05  18.379999  18.730000  18.219999  18.680000  16.320812  3019000   \n",
       "2018-01-08  18.799999  19.400000  18.799999  19.230000  16.801350  3668400   \n",
       "\n",
       "            ratio_high_low  log_close  \n",
       "Date                                   \n",
       "2018-01-02        1.028684   2.904713  \n",
       "2018-01-03        1.025112   2.901422  \n",
       "2018-01-04        1.023385   2.907993  \n",
       "2018-01-05        1.027991   2.927453  \n",
       "2018-01-08        1.031915   2.956472  "
      ]
     },
     "execution_count": 27,
     "metadata": {},
     "output_type": "execute_result"
    }
   ],
   "source": [
    "# We can transform our data\n",
    "df['log_close'] = df['Close'].apply(np.log)\n",
    "df.head()"
   ]
  },
  {
   "cell_type": "code",
   "execution_count": 28,
   "id": "8b3160c5",
   "metadata": {},
   "outputs": [
    {
     "data": {
      "text/html": [
       "<div>\n",
       "<style scoped>\n",
       "    .dataframe tbody tr th:only-of-type {\n",
       "        vertical-align: middle;\n",
       "    }\n",
       "\n",
       "    .dataframe tbody tr th {\n",
       "        vertical-align: top;\n",
       "    }\n",
       "\n",
       "    .dataframe thead th {\n",
       "        text-align: right;\n",
       "    }\n",
       "</style>\n",
       "<table border=\"1\" class=\"dataframe\">\n",
       "  <thead>\n",
       "    <tr style=\"text-align: right;\">\n",
       "      <th></th>\n",
       "      <th>Close</th>\n",
       "      <th>close_minus_one</th>\n",
       "    </tr>\n",
       "    <tr>\n",
       "      <th>Date</th>\n",
       "      <th></th>\n",
       "      <th></th>\n",
       "    </tr>\n",
       "  </thead>\n",
       "  <tbody>\n",
       "    <tr>\n",
       "      <th>2018-01-02</th>\n",
       "      <td>18.260000</td>\n",
       "      <td>17.260000</td>\n",
       "    </tr>\n",
       "    <tr>\n",
       "      <th>2018-01-03</th>\n",
       "      <td>18.200001</td>\n",
       "      <td>17.200001</td>\n",
       "    </tr>\n",
       "    <tr>\n",
       "      <th>2018-01-04</th>\n",
       "      <td>18.320000</td>\n",
       "      <td>17.320000</td>\n",
       "    </tr>\n",
       "    <tr>\n",
       "      <th>2018-01-05</th>\n",
       "      <td>18.680000</td>\n",
       "      <td>17.680000</td>\n",
       "    </tr>\n",
       "    <tr>\n",
       "      <th>2018-01-08</th>\n",
       "      <td>19.230000</td>\n",
       "      <td>18.230000</td>\n",
       "    </tr>\n",
       "  </tbody>\n",
       "</table>\n",
       "</div>"
      ],
      "text/plain": [
       "                Close  close_minus_one\n",
       "Date                                  \n",
       "2018-01-02  18.260000        17.260000\n",
       "2018-01-03  18.200001        17.200001\n",
       "2018-01-04  18.320000        17.320000\n",
       "2018-01-05  18.680000        17.680000\n",
       "2018-01-08  19.230000        18.230000"
      ]
     },
     "execution_count": 28,
     "metadata": {},
     "output_type": "execute_result"
    }
   ],
   "source": [
    "# Here we want to pick up on lambda functions again. They can be used with the apply method\n",
    "df['close_minus_one'] = df['Close'].apply(lambda x: x - 1) # Any function can be applied with lambda.\n",
    "\n",
    "# Let's check out if it worked\n",
    "df[['Close', 'close_minus_one']].head()"
   ]
  },
  {
   "cell_type": "code",
   "execution_count": 29,
   "id": "c8acd6d1",
   "metadata": {},
   "outputs": [],
   "source": [
    "# We can also easly plot our data\n",
    "import matplotlib.pyplot as plt # That's the ggplot of Python \n",
    "                                # but there even exists a ggplot wrapper for Python for die-hard fans of ggplot\n",
    "    \n",
    "# When we use jupyter notebooks, we need to run\n",
    "%matplotlib inline "
   ]
  },
  {
   "cell_type": "code",
   "execution_count": 30,
   "id": "d6e32847",
   "metadata": {},
   "outputs": [
    {
     "data": {
      "text/plain": [
       "<AxesSubplot:xlabel='Date'>"
      ]
     },
     "execution_count": 30,
     "metadata": {},
     "output_type": "execute_result"
    },
    {
     "data": {
      "image/png": "[encoded data removed]",
      "text/plain": [
       "<Figure size 432x288 with 1 Axes>"
      ]
     },
     "metadata": {
      "needs_background": "light"
     },
     "output_type": "display_data"
    }
   ],
   "source": [
    "df.Close.plot()"
   ]
  },
  {
   "cell_type": "markdown",
   "id": "96baf84e",
   "metadata": {},
   "source": [
    "There are of course many other things in the pandas ecosystem. If you ever work with data in Python using pandas you will also appreciate the great documentation as well as the active community of pandas."
   ]
  },
  {
   "cell_type": "markdown",
   "id": "dc9047ff",
   "metadata": {},
   "source": [
    "### Scipy\n",
    "Scipy is a library for (their words) fundamental algorithms for scientific computing. We can use it for optimization, integration, interpolation, etc. It's a big ecosystem and has an active community.\n",
    "\n",
    "For more info, visit: https://scipy.org/\n",
    "\n",
    "I will not go into great detail of scipy, but just to showcase what you can use it for we will use scipy's numerical optimization tools to minimize a function."
   ]
  },
  {
   "cell_type": "code",
   "execution_count": 1,
   "id": "a79fff84",
   "metadata": {},
   "outputs": [
    {
     "data": {
      "text/plain": [
       "     fun: 0.0\n",
       "    nfev: 8\n",
       "     nit: 4\n",
       " success: True\n",
       "       x: 0.0"
      ]
     },
     "execution_count": 1,
     "metadata": {},
     "output_type": "execute_result"
    }
   ],
   "source": [
    "# Define function that we want to minimize\n",
    "def squareScalar(x):\n",
    "    return x ** 2\n",
    "\n",
    "# Import scalar minimization\n",
    "from scipy.optimize import minimize_scalar\n",
    "\n",
    "# Minimize function\n",
    "result = minimize_scalar(squareScalar, method='brent')\n",
    "result"
   ]
  }
 ],
 "metadata": {
  "kernelspec": {
   "display_name": "Python 3 (ipykernel)",
   "language": "python",
   "name": "python3"
  },
  "language_info": {
   "codemirror_mode": {
    "name": "ipython",
    "version": 3
   },
   "file_extension": ".py",
   "mimetype": "text/x-python",
   "name": "python",
   "nbconvert_exporter": "python",
   "pygments_lexer": "ipython3",
   "version": "3.8.5"
  }
 },
 "nbformat": 4,
 "nbformat_minor": 5
}
