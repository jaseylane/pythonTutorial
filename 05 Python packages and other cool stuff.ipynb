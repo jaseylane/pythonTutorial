{
 "cells": [
  {
   "cell_type": "markdown",
   "id": "e633cb09",
   "metadata": {},
   "source": [
    "# Lesson 5\n",
    "Now that we have covered some basics, we can have a look a the true power of Python. In this lesson, I want to cover the most widely used libraries in science/economics.\n",
    "\n",
    "The libraries I want to cover are:\n",
    "\n",
    "1. Numpy\n",
    "2. Pandas\n",
    "3. Scipy\n",
    "\n",
    "Since those libraries are huge, I just want to provide an illustration of what they can be used for.\n",
    "\n",
    "Assuming you have already installed the required library (e.g. via pip), all that we have to do to use a library is to import it.\n",
    "\n",
    "### Numpy: Efficient library for linear algebra"
   ]
  },
  {
   "cell_type": "code",
   "execution_count": 6,
   "id": "7edd9230",
   "metadata": {},
   "outputs": [
    {
     "name": "stdout",
     "output_type": "stream",
     "text": [
      "[[1 2]\n",
      " [3 4]]\n"
     ]
    }
   ],
   "source": [
    "# Import numpy and abbreviate it as np\n",
    "import numpy as np\n",
    "\n",
    "# Create array (aka matrix) of ones\n",
    "A = np.array([[1, 2], [3, 4]]) # Note that we are passing in a list of lists!\n",
    "print(A)"
   ]
  },
  {
   "cell_type": "code",
   "execution_count": 17,
   "id": "aaf0fbf9",
   "metadata": {},
   "outputs": [
    {
     "name": "stdout",
     "output_type": "stream",
     "text": [
      "[1 3]\n",
      "[1 2]\n"
     ]
    }
   ],
   "source": [
    "# Slicing arrays works similar to slicing lists\n",
    "# Grab first column\n",
    "print(A[:, 0]) # Don't forget that Python uses zero-based indexing!"
   ]
  },
  {
   "cell_type": "code",
   "execution_count": 18,
   "id": "e8fd2881",
   "metadata": {},
   "outputs": [
    {
     "name": "stdout",
     "output_type": "stream",
     "text": [
      "[1 2]\n"
     ]
    }
   ],
   "source": [
    "# Grab first row\n",
    "print(A[0, :])"
   ]
  },
  {
   "cell_type": "code",
   "execution_count": 27,
   "id": "8c3a0cf3",
   "metadata": {},
   "outputs": [
    {
     "data": {
      "text/plain": [
       "array([[1., 0.],\n",
       "       [0., 4.]])"
      ]
     },
     "execution_count": 27,
     "metadata": {},
     "output_type": "execute_result"
    }
   ],
   "source": [
    "# Multiplication\n",
    "B = np.eye(2)\n",
    "\n",
    "C = A * B # Note that this syntax will perform element-wise multiplication.\n",
    "C"
   ]
  },
  {
   "cell_type": "code",
   "execution_count": 29,
   "id": "e62b7303",
   "metadata": {},
   "outputs": [
    {
     "data": {
      "text/plain": [
       "array([[1., 2.],\n",
       "       [3., 4.]])"
      ]
     },
     "execution_count": 29,
     "metadata": {},
     "output_type": "execute_result"
    }
   ],
   "source": [
    "C = np.dot(A, B) # np.dot() will perform matrix multiplication.\n",
    "C"
   ]
  },
  {
   "cell_type": "code",
   "execution_count": 37,
   "id": "47b30be4",
   "metadata": {},
   "outputs": [
    {
     "name": "stdout",
     "output_type": "stream",
     "text": [
      "Transpose of matrix A:\n",
      " [[1 3]\n",
      " [2 4]]\n",
      "Inverse of matrix A:\n",
      " [[-2.   1. ]\n",
      " [ 1.5 -0.5]]\n"
     ]
    }
   ],
   "source": [
    "# Transpose and inverse\n",
    "At = A.transpose()\n",
    "print('Transpose of matrix A:\\n', At)\n",
    "\n",
    "# Inverse\n",
    "Ai = np.linalg.inv(A)\n",
    "print('Inverse of matrix A:\\n', Ai)"
   ]
  },
  {
   "cell_type": "markdown",
   "id": "93e3fb2c",
   "metadata": {},
   "source": [
    "As mentioned before, `numpy` is a big and widely used library. For more information, check out the `numpy` homepage: https://numpy.org/"
   ]
  },
  {
   "cell_type": "markdown",
   "id": "02f813ff",
   "metadata": {},
   "source": [
    "### Pandas\n",
    "`pandas` is a Python library for data analysis. According to its website, `pandas` is a fast, powerful, flexible and easy to use open source data analysis and manipulation tool, built on top of the Python programming language.\n",
    "\n",
    "For more information see: https://pandas.pydata.org/"
   ]
  },
  {
   "cell_type": "code",
   "execution_count": 17,
   "id": "48a60be2",
   "metadata": {},
   "outputs": [
    {
     "name": "stdout",
     "output_type": "stream",
     "text": [
      "a   -2.911418\n",
      "b   -0.580940\n",
      "c   -1.613089\n",
      "d    0.120474\n",
      "e    1.620019\n",
      "dtype: float64\n"
     ]
    }
   ],
   "source": [
    "# Let's import the pandas library. The convention is to abbreviate it as 'pd'\n",
    "import pandas as pd\n",
    "\n",
    "# The basic data type in pandas is a pd.Series, which you can think of as a column of your data\n",
    "# Let's create a random pd.Series using numpy\n",
    "s = pd.Series(np.random.randn(5), index=[\"a\", \"b\", \"c\", \"d\", \"e\"])\n",
    "print(s)"
   ]
  },
  {
   "cell_type": "code",
   "execution_count": 18,
   "id": "be74f4ba",
   "metadata": {},
   "outputs": [
    {
     "data": {
      "text/html": [
       "<div>\n",
       "<style scoped>\n",
       "    .dataframe tbody tr th:only-of-type {\n",
       "        vertical-align: middle;\n",
       "    }\n",
       "\n",
       "    .dataframe tbody tr th {\n",
       "        vertical-align: top;\n",
       "    }\n",
       "\n",
       "    .dataframe thead th {\n",
       "        text-align: right;\n",
       "    }\n",
       "</style>\n",
       "<table border=\"1\" class=\"dataframe\">\n",
       "  <thead>\n",
       "    <tr style=\"text-align: right;\">\n",
       "      <th></th>\n",
       "      <th>A</th>\n",
       "      <th>B</th>\n",
       "      <th>C</th>\n",
       "    </tr>\n",
       "  </thead>\n",
       "  <tbody>\n",
       "    <tr>\n",
       "      <th>2000-01-01</th>\n",
       "      <td>0.937446</td>\n",
       "      <td>-0.945522</td>\n",
       "      <td>0.068747</td>\n",
       "    </tr>\n",
       "    <tr>\n",
       "      <th>2000-01-02</th>\n",
       "      <td>-0.288827</td>\n",
       "      <td>0.563346</td>\n",
       "      <td>1.394054</td>\n",
       "    </tr>\n",
       "    <tr>\n",
       "      <th>2000-01-03</th>\n",
       "      <td>1.210287</td>\n",
       "      <td>1.920864</td>\n",
       "      <td>0.369189</td>\n",
       "    </tr>\n",
       "    <tr>\n",
       "      <th>2000-01-04</th>\n",
       "      <td>0.923030</td>\n",
       "      <td>0.178153</td>\n",
       "      <td>-0.266281</td>\n",
       "    </tr>\n",
       "    <tr>\n",
       "      <th>2000-01-05</th>\n",
       "      <td>0.356966</td>\n",
       "      <td>-0.797334</td>\n",
       "      <td>-0.077179</td>\n",
       "    </tr>\n",
       "  </tbody>\n",
       "</table>\n",
       "</div>"
      ],
      "text/plain": [
       "                   A         B         C\n",
       "2000-01-01  0.937446 -0.945522  0.068747\n",
       "2000-01-02 -0.288827  0.563346  1.394054\n",
       "2000-01-03  1.210287  1.920864  0.369189\n",
       "2000-01-04  0.923030  0.178153 -0.266281\n",
       "2000-01-05  0.356966 -0.797334 -0.077179"
      ]
     },
     "execution_count": 18,
     "metadata": {},
     "output_type": "execute_result"
    }
   ],
   "source": [
    "index = pd.date_range(\"1/1/2000\", periods=8)\n",
    "df = pd.DataFrame(np.random.randn(8, 3), index=index, columns=[\"A\", \"B\", \"C\"])\n",
    "\n",
    "df.head()"
   ]
  },
  {
   "cell_type": "code",
   "execution_count": 16,
   "id": "046b41a6",
   "metadata": {},
   "outputs": [
    {
     "data": {
      "text/plain": [
       "a    0.061811\n",
       "b   -0.616316\n",
       "c   -1.912763\n",
       "d    0.450811\n",
       "e    0.162389\n",
       "dtype: float64"
      ]
     },
     "execution_count": 16,
     "metadata": {},
     "output_type": "execute_result"
    }
   ],
   "source": []
  },
  {
   "cell_type": "code",
   "execution_count": null,
   "id": "7e310961",
   "metadata": {},
   "outputs": [],
   "source": []
  },
  {
   "cell_type": "code",
   "execution_count": null,
   "id": "5827be08",
   "metadata": {},
   "outputs": [],
   "source": []
  },
  {
   "cell_type": "code",
   "execution_count": null,
   "id": "4d9e03d6",
   "metadata": {},
   "outputs": [],
   "source": []
  },
  {
   "cell_type": "code",
   "execution_count": null,
   "id": "5dbf5b55",
   "metadata": {},
   "outputs": [],
   "source": []
  },
  {
   "cell_type": "code",
   "execution_count": null,
   "id": "17744f08",
   "metadata": {},
   "outputs": [],
   "source": [
    "# We want to import only one function from fastquant\n",
    "from fastquant import get_stock_data\n",
    "\n",
    "# Grab data on a particular stock\n",
    "df = get_stock_data('GME', '2018-01-01', '2019-01-01')"
   ]
  },
  {
   "cell_type": "code",
   "execution_count": null,
   "id": "31f3f3ad",
   "metadata": {},
   "outputs": [],
   "source": []
  }
 ],
 "metadata": {
  "kernelspec": {
   "display_name": "Python 3 (ipykernel)",
   "language": "python",
   "name": "python3"
  },
  "language_info": {
   "codemirror_mode": {
    "name": "ipython",
    "version": 3
   },
   "file_extension": ".py",
   "mimetype": "text/x-python",
   "name": "python",
   "nbconvert_exporter": "python",
   "pygments_lexer": "ipython3",
   "version": "3.8.5"
  }
 },
 "nbformat": 4,
 "nbformat_minor": 5
}
