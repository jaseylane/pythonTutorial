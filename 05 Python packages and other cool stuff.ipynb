{
 "cells": [
  {
   "cell_type": "markdown",
   "id": "e633cb09",
   "metadata": {},
   "source": [
    "# Lesson 5\n",
    "Now that we have covered some basics, we can have a look a the true power of Python. In this lesson, I want to cover the most widely used libraries in science/economics.\n",
    "\n",
    "The libraries I want to cover are:\n",
    "\n",
    "1. Numpy\n",
    "2. Pandas\n",
    "3. Scipy\n",
    "\n",
    "Since those libraries are huge, I just want to provide an illustration of what they can be used for.\n",
    "\n",
    "Assuming you have already installed the required library (e.g. via pip), all that we have to do to use a library is to import it.\n",
    "\n",
    "### Numpy: Efficient library for linear algebra"
   ]
  },
  {
   "cell_type": "code",
   "execution_count": 1,
   "id": "7edd9230",
   "metadata": {},
   "outputs": [
    {
     "name": "stdout",
     "output_type": "stream",
     "text": [
      "[[1 2]\n",
      " [3 4]]\n"
     ]
    }
   ],
   "source": [
    "# Import numpy and abbreviate it as np\n",
    "import numpy as np\n",
    "\n",
    "# Create array (aka matrix) of ones\n",
    "A = np.array([[1, 2], [3, 4]]) # Note that we are passing in a list of lists!\n",
    "print(A)"
   ]
  },
  {
   "cell_type": "code",
   "execution_count": 2,
   "id": "aaf0fbf9",
   "metadata": {},
   "outputs": [
    {
     "name": "stdout",
     "output_type": "stream",
     "text": [
      "[1 3]\n"
     ]
    }
   ],
   "source": [
    "# Slicing arrays works similar to slicing lists\n",
    "# Grab first column\n",
    "print(A[:, 0]) # Don't forget that Python uses zero-based indexing!"
   ]
  },
  {
   "cell_type": "code",
   "execution_count": 3,
   "id": "e8fd2881",
   "metadata": {},
   "outputs": [
    {
     "name": "stdout",
     "output_type": "stream",
     "text": [
      "[1 2]\n"
     ]
    }
   ],
   "source": [
    "# Grab first row\n",
    "print(A[0, :])"
   ]
  },
  {
   "cell_type": "code",
   "execution_count": 4,
   "id": "8c3a0cf3",
   "metadata": {},
   "outputs": [
    {
     "data": {
      "text/plain": [
       "array([[1., 0.],\n",
       "       [0., 4.]])"
      ]
     },
     "execution_count": 4,
     "metadata": {},
     "output_type": "execute_result"
    }
   ],
   "source": [
    "# Multiplication\n",
    "B = np.eye(2)\n",
    "\n",
    "C = A * B # Note that this syntax will perform element-wise multiplication.\n",
    "C"
   ]
  },
  {
   "cell_type": "code",
   "execution_count": 5,
   "id": "e62b7303",
   "metadata": {},
   "outputs": [
    {
     "data": {
      "text/plain": [
       "array([[1., 2.],\n",
       "       [3., 4.]])"
      ]
     },
     "execution_count": 5,
     "metadata": {},
     "output_type": "execute_result"
    }
   ],
   "source": [
    "C = np.dot(A, B) # np.dot() will perform matrix multiplication.\n",
    "C"
   ]
  },
  {
   "cell_type": "code",
   "execution_count": 6,
   "id": "47b30be4",
   "metadata": {},
   "outputs": [
    {
     "name": "stdout",
     "output_type": "stream",
     "text": [
      "Transpose of matrix A:\n",
      " [[1 3]\n",
      " [2 4]]\n",
      "Inverse of matrix A:\n",
      " [[-2.   1. ]\n",
      " [ 1.5 -0.5]]\n"
     ]
    }
   ],
   "source": [
    "# Transpose and inverse\n",
    "At = A.transpose()\n",
    "print('Transpose of matrix A:\\n', At)\n",
    "\n",
    "# Inverse\n",
    "Ai = np.linalg.inv(A)\n",
    "print('Inverse of matrix A:\\n', Ai)"
   ]
  },
  {
   "cell_type": "markdown",
   "id": "93e3fb2c",
   "metadata": {},
   "source": [
    "As mentioned before, `numpy` is a big and widely used library. For more information, check out the `numpy` homepage: https://numpy.org/"
   ]
  },
  {
   "cell_type": "markdown",
   "id": "02f813ff",
   "metadata": {},
   "source": [
    "### Pandas\n",
    "`pandas` is a Python library for data analysis. According to its website, `pandas` is a fast, powerful, flexible and easy to use open source data analysis and manipulation tool, built on top of the Python programming language.\n",
    "\n",
    "For more information see: https://pandas.pydata.org/"
   ]
  },
  {
   "cell_type": "code",
   "execution_count": 7,
   "id": "48a60be2",
   "metadata": {},
   "outputs": [
    {
     "name": "stdout",
     "output_type": "stream",
     "text": [
      "<class 'pandas.core.series.Series'>\n",
      "\n",
      "0    0.674886\n",
      "1    0.538139\n",
      "2    1.289142\n",
      "3   -0.415210\n",
      "4    1.029742\n",
      "dtype: float64\n"
     ]
    }
   ],
   "source": [
    "# Let's import the pandas library. The convention is to abbreviate it as 'pd'\n",
    "import pandas as pd\n",
    "\n",
    "# The basic data type in pandas is a pd.Series, which you can think of as a column of your data\n",
    "# Let's create a random pd.Series using numpy\n",
    "s = pd.Series(np.random.randn(5))\n",
    "print(type(s))\n",
    "print() # Just an empty line for readability.\n",
    "print(s)"
   ]
  },
  {
   "cell_type": "code",
   "execution_count": 8,
   "id": "be74f4ba",
   "metadata": {},
   "outputs": [
    {
     "name": "stdout",
     "output_type": "stream",
     "text": [
      "<class 'pandas.core.frame.DataFrame'>\n",
      "\n"
     ]
    },
    {
     "data": {
      "text/html": [
       "<div>\n",
       "<style scoped>\n",
       "    .dataframe tbody tr th:only-of-type {\n",
       "        vertical-align: middle;\n",
       "    }\n",
       "\n",
       "    .dataframe tbody tr th {\n",
       "        vertical-align: top;\n",
       "    }\n",
       "\n",
       "    .dataframe thead th {\n",
       "        text-align: right;\n",
       "    }\n",
       "</style>\n",
       "<table border=\"1\" class=\"dataframe\">\n",
       "  <thead>\n",
       "    <tr style=\"text-align: right;\">\n",
       "      <th></th>\n",
       "      <th>A</th>\n",
       "      <th>B</th>\n",
       "      <th>C</th>\n",
       "    </tr>\n",
       "  </thead>\n",
       "  <tbody>\n",
       "    <tr>\n",
       "      <th>0</th>\n",
       "      <td>0.943526</td>\n",
       "      <td>-1.837969</td>\n",
       "      <td>0.666714</td>\n",
       "    </tr>\n",
       "    <tr>\n",
       "      <th>1</th>\n",
       "      <td>0.252136</td>\n",
       "      <td>1.412880</td>\n",
       "      <td>0.649733</td>\n",
       "    </tr>\n",
       "    <tr>\n",
       "      <th>2</th>\n",
       "      <td>-0.136965</td>\n",
       "      <td>0.158380</td>\n",
       "      <td>-0.706276</td>\n",
       "    </tr>\n",
       "    <tr>\n",
       "      <th>3</th>\n",
       "      <td>-0.123406</td>\n",
       "      <td>-0.250731</td>\n",
       "      <td>1.063976</td>\n",
       "    </tr>\n",
       "    <tr>\n",
       "      <th>4</th>\n",
       "      <td>-0.165818</td>\n",
       "      <td>-1.397286</td>\n",
       "      <td>0.010245</td>\n",
       "    </tr>\n",
       "  </tbody>\n",
       "</table>\n",
       "</div>"
      ],
      "text/plain": [
       "          A         B         C\n",
       "0  0.943526 -1.837969  0.666714\n",
       "1  0.252136  1.412880  0.649733\n",
       "2 -0.136965  0.158380 -0.706276\n",
       "3 -0.123406 -0.250731  1.063976\n",
       "4 -0.165818 -1.397286  0.010245"
      ]
     },
     "execution_count": 8,
     "metadata": {},
     "output_type": "execute_result"
    }
   ],
   "source": [
    "# Commonly we will work with multiple variables. These are organized in a pd.DataFrame.\n",
    "# Each DataFrame has an index (both for rows and cols). Let's create a pd.DataFrame.\n",
    "df = pd.DataFrame(np.random.randn(8, 3), columns=[\"A\", \"B\", \"C\"])\n",
    "\n",
    "print(type(df))\n",
    "print() # Just an empty line for readability.\n",
    "\n",
    "# Let's check out what this looks like\n",
    "df.head()"
   ]
  },
  {
   "cell_type": "code",
   "execution_count": 11,
   "id": "046b41a6",
   "metadata": {},
   "outputs": [
    {
     "name": "stderr",
     "output_type": "stream",
     "text": [
      "Exception in thread Thread-10:\n",
      "Traceback (most recent call last):\n",
      "  File \"c:\\specprof\\python\\lib\\threading.py\", line 932, in _bootstrap_inner\n",
      "    self.run()\n",
      "  File \"c:\\specprof\\python\\lib\\threading.py\", line 870, in run\n",
      "    self._target(*self._args, **self._kwargs)\n",
      "  File \"c:\\specprof\\python\\lib\\site-packages\\multitasking\\__init__.py\", line 104, in _run_via_pool\n",
      "    return callee(*args, **kwargs)\n",
      "  File \"c:\\specprof\\python\\lib\\site-packages\\yfinance\\multi.py\", line 188, in _download_one_threaded\n",
      "    data = _download_one(ticker, start, end, auto_adjust, back_adjust,\n",
      "  File \"c:\\specprof\\python\\lib\\site-packages\\yfinance\\multi.py\", line 202, in _download_one\n",
      "    return Ticker(ticker).history(period=period, interval=interval,\n",
      "  File \"c:\\specprof\\python\\lib\\site-packages\\yfinance\\base.py\", line 295, in history\n",
      "    df.index = df.index.tz_localize(\"UTC\").tz_convert(\n",
      "AttributeError: 'Index' object has no attribute 'tz_localize'\n"
     ]
    },
    {
     "ename": "KeyboardInterrupt",
     "evalue": "",
     "output_type": "error",
     "traceback": [
      "\u001b[1;31m---------------------------------------------------------------------------\u001b[0m",
      "\u001b[1;31mKeyboardInterrupt\u001b[0m                         Traceback (most recent call last)",
      "\u001b[1;32m~\\AppData\\Local\\Temp/ipykernel_4952/3803549553.py\u001b[0m in \u001b[0;36m<module>\u001b[1;34m\u001b[0m\n\u001b[0;32m      5\u001b[0m \u001b[1;33m\u001b[0m\u001b[0m\n\u001b[0;32m      6\u001b[0m \u001b[1;31m# Grab time-series data for GameStop ($GME)\u001b[0m\u001b[1;33m\u001b[0m\u001b[1;33m\u001b[0m\u001b[1;33m\u001b[0m\u001b[0m\n\u001b[1;32m----> 7\u001b[1;33m \u001b[0mdf\u001b[0m \u001b[1;33m=\u001b[0m \u001b[0mget_stock_data\u001b[0m\u001b[1;33m(\u001b[0m\u001b[1;34m'GME'\u001b[0m\u001b[1;33m,\u001b[0m \u001b[1;34m'2018-01-01'\u001b[0m\u001b[1;33m,\u001b[0m \u001b[1;34m'2022-02-28'\u001b[0m\u001b[1;33m)\u001b[0m\u001b[1;33m\u001b[0m\u001b[1;33m\u001b[0m\u001b[0m\n\u001b[0m\u001b[0;32m      8\u001b[0m \u001b[1;33m\u001b[0m\u001b[0m\n\u001b[0;32m      9\u001b[0m \u001b[0mprint\u001b[0m\u001b[1;33m(\u001b[0m\u001b[0mtype\u001b[0m\u001b[1;33m(\u001b[0m\u001b[0mdf\u001b[0m\u001b[1;33m)\u001b[0m\u001b[1;33m)\u001b[0m\u001b[1;33m\u001b[0m\u001b[1;33m\u001b[0m\u001b[0m\n",
      "\u001b[1;32mc:\\specprof\\python\\lib\\site-packages\\fastquant\\data\\stocks\\stocks.py\u001b[0m in \u001b[0;36mget_stock_data\u001b[1;34m(symbol, start_date, end_date, source, format, dividends)\u001b[0m\n\u001b[0;32m     52\u001b[0m     \u001b[1;32mif\u001b[0m \u001b[0msource\u001b[0m \u001b[1;33m==\u001b[0m \u001b[1;34m\"yahoo\"\u001b[0m\u001b[1;33m:\u001b[0m\u001b[1;33m\u001b[0m\u001b[1;33m\u001b[0m\u001b[0m\n\u001b[0;32m     53\u001b[0m         \u001b[1;31m# The query is run on 'yahoo', but if the symbol isn't found, the same query is run on 'phisix'.\u001b[0m\u001b[1;33m\u001b[0m\u001b[1;33m\u001b[0m\u001b[1;33m\u001b[0m\u001b[0m\n\u001b[1;32m---> 54\u001b[1;33m         \u001b[0mdf\u001b[0m \u001b[1;33m=\u001b[0m \u001b[0mget_yahoo_data\u001b[0m\u001b[1;33m(\u001b[0m\u001b[0msymbol\u001b[0m\u001b[1;33m,\u001b[0m \u001b[0mstart_date\u001b[0m\u001b[1;33m,\u001b[0m \u001b[0mend_date\u001b[0m\u001b[1;33m,\u001b[0m \u001b[0mdividends\u001b[0m\u001b[1;33m)\u001b[0m\u001b[1;33m\u001b[0m\u001b[1;33m\u001b[0m\u001b[0m\n\u001b[0m\u001b[0;32m     55\u001b[0m         \u001b[1;32mif\u001b[0m \u001b[0mdf\u001b[0m \u001b[1;32mis\u001b[0m \u001b[1;32mNone\u001b[0m \u001b[1;32mor\u001b[0m \u001b[0msymbol\u001b[0m \u001b[1;33m==\u001b[0m \u001b[1;34m\"JFC\"\u001b[0m\u001b[1;33m:\u001b[0m\u001b[1;33m\u001b[0m\u001b[1;33m\u001b[0m\u001b[0m\n\u001b[0;32m     56\u001b[0m             \u001b[0mformat\u001b[0m \u001b[1;33m=\u001b[0m \u001b[1;34m\"c\"\u001b[0m\u001b[1;33m\u001b[0m\u001b[1;33m\u001b[0m\u001b[0m\n",
      "\u001b[1;32mc:\\specprof\\python\\lib\\site-packages\\fastquant\\data\\stocks\\yahoofinance.py\u001b[0m in \u001b[0;36mget_yahoo_data\u001b[1;34m(symbol, start_date, end_date, dividends)\u001b[0m\n\u001b[0;32m     26\u001b[0m         \u001b[0mStock\u001b[0m \u001b[0mdata\u001b[0m \u001b[1;33m(\u001b[0m\u001b[1;32min\u001b[0m \u001b[0mOHLCAV\u001b[0m \u001b[0mformat\u001b[0m\u001b[1;33m)\u001b[0m \u001b[1;32mfor\u001b[0m \u001b[0mthe\u001b[0m \u001b[0mspecified\u001b[0m \u001b[0mcompany\u001b[0m \u001b[1;32mand\u001b[0m \u001b[0mdate\u001b[0m \u001b[0mrange\u001b[0m\u001b[1;33m\u001b[0m\u001b[1;33m\u001b[0m\u001b[0m\n\u001b[0;32m     27\u001b[0m     \"\"\"\n\u001b[1;32m---> 28\u001b[1;33m     \u001b[0mdf\u001b[0m \u001b[1;33m=\u001b[0m \u001b[0myf\u001b[0m\u001b[1;33m.\u001b[0m\u001b[0mdownload\u001b[0m\u001b[1;33m(\u001b[0m\u001b[0msymbol\u001b[0m\u001b[1;33m,\u001b[0m \u001b[0mstart\u001b[0m\u001b[1;33m=\u001b[0m\u001b[0mstart_date\u001b[0m\u001b[1;33m,\u001b[0m \u001b[0mend\u001b[0m\u001b[1;33m=\u001b[0m\u001b[0mend_date\u001b[0m\u001b[1;33m)\u001b[0m\u001b[1;33m\u001b[0m\u001b[1;33m\u001b[0m\u001b[0m\n\u001b[0m\u001b[0;32m     29\u001b[0m     \u001b[0mdf\u001b[0m \u001b[1;33m=\u001b[0m \u001b[0mdf\u001b[0m\u001b[1;33m.\u001b[0m\u001b[0mreset_index\u001b[0m\u001b[1;33m(\u001b[0m\u001b[1;33m)\u001b[0m\u001b[1;33m\u001b[0m\u001b[1;33m\u001b[0m\u001b[0m\n\u001b[0;32m     30\u001b[0m     rename_dict = {\n",
      "\u001b[1;32mc:\\specprof\\python\\lib\\site-packages\\yfinance\\multi.py\u001b[0m in \u001b[0;36mdownload\u001b[1;34m(tickers, start, end, actions, threads, group_by, auto_adjust, back_adjust, progress, period, show_errors, interval, prepost, proxy, rounding, timeout, **kwargs)\u001b[0m\n\u001b[0;32m    110\u001b[0m                                    rounding=rounding, timeout=timeout)\n\u001b[0;32m    111\u001b[0m         \u001b[1;32mwhile\u001b[0m \u001b[0mlen\u001b[0m\u001b[1;33m(\u001b[0m\u001b[0mshared\u001b[0m\u001b[1;33m.\u001b[0m\u001b[0m_DFS\u001b[0m\u001b[1;33m)\u001b[0m \u001b[1;33m<\u001b[0m \u001b[0mlen\u001b[0m\u001b[1;33m(\u001b[0m\u001b[0mtickers\u001b[0m\u001b[1;33m)\u001b[0m\u001b[1;33m:\u001b[0m\u001b[1;33m\u001b[0m\u001b[1;33m\u001b[0m\u001b[0m\n\u001b[1;32m--> 112\u001b[1;33m             \u001b[0m_time\u001b[0m\u001b[1;33m.\u001b[0m\u001b[0msleep\u001b[0m\u001b[1;33m(\u001b[0m\u001b[1;36m0.01\u001b[0m\u001b[1;33m)\u001b[0m\u001b[1;33m\u001b[0m\u001b[1;33m\u001b[0m\u001b[0m\n\u001b[0m\u001b[0;32m    113\u001b[0m \u001b[1;33m\u001b[0m\u001b[0m\n\u001b[0;32m    114\u001b[0m     \u001b[1;31m# download synchronously\u001b[0m\u001b[1;33m\u001b[0m\u001b[1;33m\u001b[0m\u001b[1;33m\u001b[0m\u001b[0m\n",
      "\u001b[1;31mKeyboardInterrupt\u001b[0m: "
     ]
    }
   ],
   "source": [
    "# Let's use actual data rather some randomly generated numbers.\n",
    "# We can get some data on stock prices using the package fastquant.\n",
    "# We want to import only one function from fastquant\n",
    "from fastquant import get_stock_data\n",
    "\n",
    "# Grab time-series data for GameStop ($GME)\n",
    "df = get_stock_data('GME', '2018-01-01', '2022-02-28')\n",
    "\n",
    "print(type(df))"
   ]
  },
  {
   "cell_type": "code",
   "execution_count": 65,
   "id": "7e310961",
   "metadata": {},
   "outputs": [
    {
     "data": {
      "text/html": [
       "<div>\n",
       "<style scoped>\n",
       "    .dataframe tbody tr th:only-of-type {\n",
       "        vertical-align: middle;\n",
       "    }\n",
       "\n",
       "    .dataframe tbody tr th {\n",
       "        vertical-align: top;\n",
       "    }\n",
       "\n",
       "    .dataframe thead th {\n",
       "        text-align: right;\n",
       "    }\n",
       "</style>\n",
       "<table border=\"1\" class=\"dataframe\">\n",
       "  <thead>\n",
       "    <tr style=\"text-align: right;\">\n",
       "      <th></th>\n",
       "      <th>open</th>\n",
       "      <th>high</th>\n",
       "      <th>low</th>\n",
       "      <th>close</th>\n",
       "      <th>volume</th>\n",
       "    </tr>\n",
       "    <tr>\n",
       "      <th>dt</th>\n",
       "      <th></th>\n",
       "      <th></th>\n",
       "      <th></th>\n",
       "      <th></th>\n",
       "      <th></th>\n",
       "    </tr>\n",
       "  </thead>\n",
       "  <tbody>\n",
       "    <tr>\n",
       "      <th>2018-01-02</th>\n",
       "      <td>17.959999</td>\n",
       "      <td>18.290001</td>\n",
       "      <td>17.780001</td>\n",
       "      <td>18.260000</td>\n",
       "      <td>2832700</td>\n",
       "    </tr>\n",
       "    <tr>\n",
       "      <th>2018-01-03</th>\n",
       "      <td>18.290001</td>\n",
       "      <td>18.370001</td>\n",
       "      <td>17.920000</td>\n",
       "      <td>18.200001</td>\n",
       "      <td>3789200</td>\n",
       "    </tr>\n",
       "    <tr>\n",
       "      <th>2018-01-04</th>\n",
       "      <td>18.200001</td>\n",
       "      <td>18.379999</td>\n",
       "      <td>17.959999</td>\n",
       "      <td>18.320000</td>\n",
       "      <td>2781300</td>\n",
       "    </tr>\n",
       "    <tr>\n",
       "      <th>2018-01-05</th>\n",
       "      <td>18.379999</td>\n",
       "      <td>18.730000</td>\n",
       "      <td>18.219999</td>\n",
       "      <td>18.680000</td>\n",
       "      <td>3019000</td>\n",
       "    </tr>\n",
       "    <tr>\n",
       "      <th>2018-01-08</th>\n",
       "      <td>18.799999</td>\n",
       "      <td>19.400000</td>\n",
       "      <td>18.799999</td>\n",
       "      <td>19.230000</td>\n",
       "      <td>3668400</td>\n",
       "    </tr>\n",
       "  </tbody>\n",
       "</table>\n",
       "</div>"
      ],
      "text/plain": [
       "                 open       high        low      close   volume\n",
       "dt                                                             \n",
       "2018-01-02  17.959999  18.290001  17.780001  18.260000  2832700\n",
       "2018-01-03  18.290001  18.370001  17.920000  18.200001  3789200\n",
       "2018-01-04  18.200001  18.379999  17.959999  18.320000  2781300\n",
       "2018-01-05  18.379999  18.730000  18.219999  18.680000  3019000\n",
       "2018-01-08  18.799999  19.400000  18.799999  19.230000  3668400"
      ]
     },
     "execution_count": 65,
     "metadata": {},
     "output_type": "execute_result"
    }
   ],
   "source": [
    "# Inspect\n",
    "df.head()"
   ]
  },
  {
   "cell_type": "code",
   "execution_count": 66,
   "id": "5827be08",
   "metadata": {},
   "outputs": [
    {
     "data": {
      "text/html": [
       "<div>\n",
       "<style scoped>\n",
       "    .dataframe tbody tr th:only-of-type {\n",
       "        vertical-align: middle;\n",
       "    }\n",
       "\n",
       "    .dataframe tbody tr th {\n",
       "        vertical-align: top;\n",
       "    }\n",
       "\n",
       "    .dataframe thead th {\n",
       "        text-align: right;\n",
       "    }\n",
       "</style>\n",
       "<table border=\"1\" class=\"dataframe\">\n",
       "  <thead>\n",
       "    <tr style=\"text-align: right;\">\n",
       "      <th></th>\n",
       "      <th>open</th>\n",
       "      <th>high</th>\n",
       "      <th>low</th>\n",
       "      <th>close</th>\n",
       "      <th>volume</th>\n",
       "    </tr>\n",
       "  </thead>\n",
       "  <tbody>\n",
       "    <tr>\n",
       "      <th>count</th>\n",
       "      <td>1027.000000</td>\n",
       "      <td>1027.000000</td>\n",
       "      <td>1027.000000</td>\n",
       "      <td>1027.000000</td>\n",
       "      <td>1.027000e+03</td>\n",
       "    </tr>\n",
       "    <tr>\n",
       "      <th>mean</th>\n",
       "      <td>51.451509</td>\n",
       "      <td>54.389494</td>\n",
       "      <td>48.481986</td>\n",
       "      <td>51.066105</td>\n",
       "      <td>7.564194e+06</td>\n",
       "    </tr>\n",
       "    <tr>\n",
       "      <th>std</th>\n",
       "      <td>75.978162</td>\n",
       "      <td>81.134050</td>\n",
       "      <td>70.834723</td>\n",
       "      <td>75.019229</td>\n",
       "      <td>1.552809e+07</td>\n",
       "    </tr>\n",
       "    <tr>\n",
       "      <th>min</th>\n",
       "      <td>2.850000</td>\n",
       "      <td>2.940000</td>\n",
       "      <td>2.570000</td>\n",
       "      <td>2.800000</td>\n",
       "      <td>8.170000e+05</td>\n",
       "    </tr>\n",
       "    <tr>\n",
       "      <th>25%</th>\n",
       "      <td>5.635000</td>\n",
       "      <td>5.840000</td>\n",
       "      <td>5.465000</td>\n",
       "      <td>5.630000</td>\n",
       "      <td>2.504100e+06</td>\n",
       "    </tr>\n",
       "    <tr>\n",
       "      <th>50%</th>\n",
       "      <td>13.510000</td>\n",
       "      <td>13.880000</td>\n",
       "      <td>13.180000</td>\n",
       "      <td>13.520000</td>\n",
       "      <td>3.789200e+06</td>\n",
       "    </tr>\n",
       "    <tr>\n",
       "      <th>75%</th>\n",
       "      <td>42.070000</td>\n",
       "      <td>45.875000</td>\n",
       "      <td>39.250000</td>\n",
       "      <td>41.859999</td>\n",
       "      <td>6.227150e+06</td>\n",
       "    </tr>\n",
       "    <tr>\n",
       "      <th>max</th>\n",
       "      <td>379.709991</td>\n",
       "      <td>483.000000</td>\n",
       "      <td>291.510010</td>\n",
       "      <td>347.510010</td>\n",
       "      <td>1.971579e+08</td>\n",
       "    </tr>\n",
       "  </tbody>\n",
       "</table>\n",
       "</div>"
      ],
      "text/plain": [
       "              open         high          low        close        volume\n",
       "count  1027.000000  1027.000000  1027.000000  1027.000000  1.027000e+03\n",
       "mean     51.451509    54.389494    48.481986    51.066105  7.564194e+06\n",
       "std      75.978162    81.134050    70.834723    75.019229  1.552809e+07\n",
       "min       2.850000     2.940000     2.570000     2.800000  8.170000e+05\n",
       "25%       5.635000     5.840000     5.465000     5.630000  2.504100e+06\n",
       "50%      13.510000    13.880000    13.180000    13.520000  3.789200e+06\n",
       "75%      42.070000    45.875000    39.250000    41.859999  6.227150e+06\n",
       "max     379.709991   483.000000   291.510010   347.510010  1.971579e+08"
      ]
     },
     "execution_count": 66,
     "metadata": {},
     "output_type": "execute_result"
    }
   ],
   "source": [
    "# Some quick summary stats of the data\n",
    "df.describe()"
   ]
  },
  {
   "cell_type": "code",
   "execution_count": 67,
   "id": "4d9e03d6",
   "metadata": {},
   "outputs": [
    {
     "data": {
      "text/plain": [
       "DatetimeIndex(['2018-01-02', '2018-01-03', '2018-01-04', '2018-01-05',\n",
       "               '2018-01-08', '2018-01-09', '2018-01-10', '2018-01-11',\n",
       "               '2018-01-12', '2018-01-16',\n",
       "               ...\n",
       "               '2022-01-14', '2022-01-18', '2022-01-19', '2022-01-20',\n",
       "               '2022-01-21', '2022-01-24', '2022-01-25', '2022-01-26',\n",
       "               '2022-01-27', '2022-01-28'],\n",
       "              dtype='datetime64[ns]', name='dt', length=1027, freq=None)"
      ]
     },
     "execution_count": 67,
     "metadata": {},
     "output_type": "execute_result"
    }
   ],
   "source": [
    "# Pandas has quite advanced indices. The get_stock_data function returned an pd.DataFrame with a DatetimeIndex.\n",
    "df.index"
   ]
  },
  {
   "cell_type": "code",
   "execution_count": 68,
   "id": "5dbf5b55",
   "metadata": {},
   "outputs": [
    {
     "data": {
      "text/plain": [
       "dt\n",
       "2018-01-02    17.959999\n",
       "2018-01-03    18.290001\n",
       "2018-01-04    18.200001\n",
       "2018-01-05    18.379999\n",
       "2018-01-08    18.799999\n",
       "Name: open, dtype: float64"
      ]
     },
     "execution_count": 68,
     "metadata": {},
     "output_type": "execute_result"
    }
   ],
   "source": [
    "# We can grab single columns from the pd.DataFrame\n",
    "df['open'].head()"
   ]
  },
  {
   "cell_type": "code",
   "execution_count": 69,
   "id": "17744f08",
   "metadata": {},
   "outputs": [
    {
     "data": {
      "text/html": [
       "<div>\n",
       "<style scoped>\n",
       "    .dataframe tbody tr th:only-of-type {\n",
       "        vertical-align: middle;\n",
       "    }\n",
       "\n",
       "    .dataframe tbody tr th {\n",
       "        vertical-align: top;\n",
       "    }\n",
       "\n",
       "    .dataframe thead th {\n",
       "        text-align: right;\n",
       "    }\n",
       "</style>\n",
       "<table border=\"1\" class=\"dataframe\">\n",
       "  <thead>\n",
       "    <tr style=\"text-align: right;\">\n",
       "      <th></th>\n",
       "      <th>open</th>\n",
       "      <th>high</th>\n",
       "      <th>low</th>\n",
       "      <th>close</th>\n",
       "      <th>volume</th>\n",
       "    </tr>\n",
       "    <tr>\n",
       "      <th>dt</th>\n",
       "      <th></th>\n",
       "      <th></th>\n",
       "      <th></th>\n",
       "      <th></th>\n",
       "      <th></th>\n",
       "    </tr>\n",
       "  </thead>\n",
       "  <tbody>\n",
       "    <tr>\n",
       "      <th>2018-01-02</th>\n",
       "      <td>17.959999</td>\n",
       "      <td>18.290001</td>\n",
       "      <td>17.780001</td>\n",
       "      <td>18.260000</td>\n",
       "      <td>2832700</td>\n",
       "    </tr>\n",
       "    <tr>\n",
       "      <th>2018-01-03</th>\n",
       "      <td>18.290001</td>\n",
       "      <td>18.370001</td>\n",
       "      <td>17.920000</td>\n",
       "      <td>18.200001</td>\n",
       "      <td>3789200</td>\n",
       "    </tr>\n",
       "    <tr>\n",
       "      <th>2018-01-04</th>\n",
       "      <td>18.200001</td>\n",
       "      <td>18.379999</td>\n",
       "      <td>17.959999</td>\n",
       "      <td>18.320000</td>\n",
       "      <td>2781300</td>\n",
       "    </tr>\n",
       "    <tr>\n",
       "      <th>2018-01-05</th>\n",
       "      <td>18.379999</td>\n",
       "      <td>18.730000</td>\n",
       "      <td>18.219999</td>\n",
       "      <td>18.680000</td>\n",
       "      <td>3019000</td>\n",
       "    </tr>\n",
       "    <tr>\n",
       "      <th>2018-01-08</th>\n",
       "      <td>18.799999</td>\n",
       "      <td>19.400000</td>\n",
       "      <td>18.799999</td>\n",
       "      <td>19.230000</td>\n",
       "      <td>3668400</td>\n",
       "    </tr>\n",
       "    <tr>\n",
       "      <th>2018-01-09</th>\n",
       "      <td>19.309999</td>\n",
       "      <td>19.750000</td>\n",
       "      <td>19.309999</td>\n",
       "      <td>19.549999</td>\n",
       "      <td>3662600</td>\n",
       "    </tr>\n",
       "    <tr>\n",
       "      <th>2018-01-10</th>\n",
       "      <td>19.389999</td>\n",
       "      <td>19.920000</td>\n",
       "      <td>19.330000</td>\n",
       "      <td>19.680000</td>\n",
       "      <td>4012800</td>\n",
       "    </tr>\n",
       "    <tr>\n",
       "      <th>2018-01-11</th>\n",
       "      <td>19.920000</td>\n",
       "      <td>20.309999</td>\n",
       "      <td>19.770000</td>\n",
       "      <td>19.959999</td>\n",
       "      <td>4213100</td>\n",
       "    </tr>\n",
       "    <tr>\n",
       "      <th>2018-01-12</th>\n",
       "      <td>18.500000</td>\n",
       "      <td>18.540001</td>\n",
       "      <td>17.629999</td>\n",
       "      <td>17.760000</td>\n",
       "      <td>15445800</td>\n",
       "    </tr>\n",
       "    <tr>\n",
       "      <th>2018-01-16</th>\n",
       "      <td>18.000000</td>\n",
       "      <td>18.280001</td>\n",
       "      <td>17.040001</td>\n",
       "      <td>17.160000</td>\n",
       "      <td>7852500</td>\n",
       "    </tr>\n",
       "  </tbody>\n",
       "</table>\n",
       "</div>"
      ],
      "text/plain": [
       "                 open       high        low      close    volume\n",
       "dt                                                              \n",
       "2018-01-02  17.959999  18.290001  17.780001  18.260000   2832700\n",
       "2018-01-03  18.290001  18.370001  17.920000  18.200001   3789200\n",
       "2018-01-04  18.200001  18.379999  17.959999  18.320000   2781300\n",
       "2018-01-05  18.379999  18.730000  18.219999  18.680000   3019000\n",
       "2018-01-08  18.799999  19.400000  18.799999  19.230000   3668400\n",
       "2018-01-09  19.309999  19.750000  19.309999  19.549999   3662600\n",
       "2018-01-10  19.389999  19.920000  19.330000  19.680000   4012800\n",
       "2018-01-11  19.920000  20.309999  19.770000  19.959999   4213100\n",
       "2018-01-12  18.500000  18.540001  17.629999  17.760000  15445800\n",
       "2018-01-16  18.000000  18.280001  17.040001  17.160000   7852500"
      ]
     },
     "execution_count": 69,
     "metadata": {},
     "output_type": "execute_result"
    }
   ],
   "source": [
    "# We can slice rows\n",
    "df[0:10] # by row number"
   ]
  },
  {
   "cell_type": "code",
   "execution_count": 70,
   "id": "31f3f3ad",
   "metadata": {},
   "outputs": [
    {
     "name": "stdout",
     "output_type": "stream",
     "text": [
      "(1027, 5)\n",
      "Our dataframe has 1027 rows and 5 columns.\n"
     ]
    }
   ],
   "source": [
    "# Check out dimensions\n",
    "print(df.shape)\n",
    "print('Our dataframe has {} rows and {} columns.'.format(df.shape[0], df.shape[1]))"
   ]
  },
  {
   "cell_type": "code",
   "execution_count": 71,
   "id": "e8b13d78",
   "metadata": {},
   "outputs": [
    {
     "data": {
      "text/plain": [
       "dt\n",
       "2018-01-02    1.028684\n",
       "2018-01-03    1.025112\n",
       "2018-01-04    1.023385\n",
       "2018-01-05    1.027991\n",
       "2018-01-08    1.031915\n",
       "Name: ratio_high_low, dtype: float64"
      ]
     },
     "execution_count": 71,
     "metadata": {},
     "output_type": "execute_result"
    }
   ],
   "source": [
    "# We can add a column\n",
    "df['ratio_high_low'] = df.high / df.low\n",
    "df.ratio_high_low.head()"
   ]
  },
  {
   "cell_type": "code",
   "execution_count": 72,
   "id": "105d4ce9",
   "metadata": {},
   "outputs": [
    {
     "data": {
      "text/html": [
       "<div>\n",
       "<style scoped>\n",
       "    .dataframe tbody tr th:only-of-type {\n",
       "        vertical-align: middle;\n",
       "    }\n",
       "\n",
       "    .dataframe tbody tr th {\n",
       "        vertical-align: top;\n",
       "    }\n",
       "\n",
       "    .dataframe thead th {\n",
       "        text-align: right;\n",
       "    }\n",
       "</style>\n",
       "<table border=\"1\" class=\"dataframe\">\n",
       "  <thead>\n",
       "    <tr style=\"text-align: right;\">\n",
       "      <th></th>\n",
       "      <th>open</th>\n",
       "      <th>high</th>\n",
       "      <th>low</th>\n",
       "      <th>close</th>\n",
       "      <th>volume</th>\n",
       "      <th>ratio_high_low</th>\n",
       "      <th>log_close</th>\n",
       "    </tr>\n",
       "    <tr>\n",
       "      <th>dt</th>\n",
       "      <th></th>\n",
       "      <th></th>\n",
       "      <th></th>\n",
       "      <th></th>\n",
       "      <th></th>\n",
       "      <th></th>\n",
       "      <th></th>\n",
       "    </tr>\n",
       "  </thead>\n",
       "  <tbody>\n",
       "    <tr>\n",
       "      <th>2018-01-02</th>\n",
       "      <td>17.959999</td>\n",
       "      <td>18.290001</td>\n",
       "      <td>17.780001</td>\n",
       "      <td>18.260000</td>\n",
       "      <td>2832700</td>\n",
       "      <td>1.028684</td>\n",
       "      <td>2.904713</td>\n",
       "    </tr>\n",
       "    <tr>\n",
       "      <th>2018-01-03</th>\n",
       "      <td>18.290001</td>\n",
       "      <td>18.370001</td>\n",
       "      <td>17.920000</td>\n",
       "      <td>18.200001</td>\n",
       "      <td>3789200</td>\n",
       "      <td>1.025112</td>\n",
       "      <td>2.901422</td>\n",
       "    </tr>\n",
       "    <tr>\n",
       "      <th>2018-01-04</th>\n",
       "      <td>18.200001</td>\n",
       "      <td>18.379999</td>\n",
       "      <td>17.959999</td>\n",
       "      <td>18.320000</td>\n",
       "      <td>2781300</td>\n",
       "      <td>1.023385</td>\n",
       "      <td>2.907993</td>\n",
       "    </tr>\n",
       "    <tr>\n",
       "      <th>2018-01-05</th>\n",
       "      <td>18.379999</td>\n",
       "      <td>18.730000</td>\n",
       "      <td>18.219999</td>\n",
       "      <td>18.680000</td>\n",
       "      <td>3019000</td>\n",
       "      <td>1.027991</td>\n",
       "      <td>2.927453</td>\n",
       "    </tr>\n",
       "    <tr>\n",
       "      <th>2018-01-08</th>\n",
       "      <td>18.799999</td>\n",
       "      <td>19.400000</td>\n",
       "      <td>18.799999</td>\n",
       "      <td>19.230000</td>\n",
       "      <td>3668400</td>\n",
       "      <td>1.031915</td>\n",
       "      <td>2.956472</td>\n",
       "    </tr>\n",
       "  </tbody>\n",
       "</table>\n",
       "</div>"
      ],
      "text/plain": [
       "                 open       high        low      close   volume  \\\n",
       "dt                                                                \n",
       "2018-01-02  17.959999  18.290001  17.780001  18.260000  2832700   \n",
       "2018-01-03  18.290001  18.370001  17.920000  18.200001  3789200   \n",
       "2018-01-04  18.200001  18.379999  17.959999  18.320000  2781300   \n",
       "2018-01-05  18.379999  18.730000  18.219999  18.680000  3019000   \n",
       "2018-01-08  18.799999  19.400000  18.799999  19.230000  3668400   \n",
       "\n",
       "            ratio_high_low  log_close  \n",
       "dt                                     \n",
       "2018-01-02        1.028684   2.904713  \n",
       "2018-01-03        1.025112   2.901422  \n",
       "2018-01-04        1.023385   2.907993  \n",
       "2018-01-05        1.027991   2.927453  \n",
       "2018-01-08        1.031915   2.956472  "
      ]
     },
     "execution_count": 72,
     "metadata": {},
     "output_type": "execute_result"
    }
   ],
   "source": [
    "# We can transform our data\n",
    "df['log_close'] = df['close'].apply(np.log)\n",
    "df.head()"
   ]
  },
  {
   "cell_type": "code",
   "execution_count": 73,
   "id": "8b3160c5",
   "metadata": {},
   "outputs": [
    {
     "data": {
      "text/html": [
       "<div>\n",
       "<style scoped>\n",
       "    .dataframe tbody tr th:only-of-type {\n",
       "        vertical-align: middle;\n",
       "    }\n",
       "\n",
       "    .dataframe tbody tr th {\n",
       "        vertical-align: top;\n",
       "    }\n",
       "\n",
       "    .dataframe thead th {\n",
       "        text-align: right;\n",
       "    }\n",
       "</style>\n",
       "<table border=\"1\" class=\"dataframe\">\n",
       "  <thead>\n",
       "    <tr style=\"text-align: right;\">\n",
       "      <th></th>\n",
       "      <th>close</th>\n",
       "      <th>close_minus_one</th>\n",
       "    </tr>\n",
       "    <tr>\n",
       "      <th>dt</th>\n",
       "      <th></th>\n",
       "      <th></th>\n",
       "    </tr>\n",
       "  </thead>\n",
       "  <tbody>\n",
       "    <tr>\n",
       "      <th>2018-01-02</th>\n",
       "      <td>18.260000</td>\n",
       "      <td>17.260000</td>\n",
       "    </tr>\n",
       "    <tr>\n",
       "      <th>2018-01-03</th>\n",
       "      <td>18.200001</td>\n",
       "      <td>17.200001</td>\n",
       "    </tr>\n",
       "    <tr>\n",
       "      <th>2018-01-04</th>\n",
       "      <td>18.320000</td>\n",
       "      <td>17.320000</td>\n",
       "    </tr>\n",
       "    <tr>\n",
       "      <th>2018-01-05</th>\n",
       "      <td>18.680000</td>\n",
       "      <td>17.680000</td>\n",
       "    </tr>\n",
       "    <tr>\n",
       "      <th>2018-01-08</th>\n",
       "      <td>19.230000</td>\n",
       "      <td>18.230000</td>\n",
       "    </tr>\n",
       "  </tbody>\n",
       "</table>\n",
       "</div>"
      ],
      "text/plain": [
       "                close  close_minus_one\n",
       "dt                                    \n",
       "2018-01-02  18.260000        17.260000\n",
       "2018-01-03  18.200001        17.200001\n",
       "2018-01-04  18.320000        17.320000\n",
       "2018-01-05  18.680000        17.680000\n",
       "2018-01-08  19.230000        18.230000"
      ]
     },
     "execution_count": 73,
     "metadata": {},
     "output_type": "execute_result"
    }
   ],
   "source": [
    "# Here we want to pick up on lambda functions again. They can be used with the apply method\n",
    "df['close_minus_one'] = df['close'].apply(lambda x: x - 1) # Any function can be applied with lambda.\n",
    "\n",
    "# Let's check out if it worked\n",
    "df[['close', 'close_minus_one']].head()"
   ]
  },
  {
   "cell_type": "code",
   "execution_count": 74,
   "id": "c8acd6d1",
   "metadata": {},
   "outputs": [],
   "source": [
    "# We can also easly plot our data\n",
    "import matplotlib.pyplot as plt # That's the ggplot of Python \n",
    "                                # but there even exists a ggplot wrapper for Python for die-hard fans of ggplot\n",
    "    \n",
    "# When we use jupyter notebooks, we need to run\n",
    "%matplotlib inline "
   ]
  },
  {
   "cell_type": "code",
   "execution_count": 75,
   "id": "d6e32847",
   "metadata": {},
   "outputs": [
    {
     "data": {
      "text/plain": [
       "<AxesSubplot:xlabel='dt'>"
      ]
     },
     "execution_count": 75,
     "metadata": {},
     "output_type": "execute_result"
    },
    {
     "data": {
      "image/png": "[encoded data removed]",
      "text/plain": [
       "<Figure size 432x288 with 1 Axes>"
      ]
     },
     "metadata": {
      "needs_background": "light"
     },
     "output_type": "display_data"
    }
   ],
   "source": [
    "df.close.plot()"
   ]
  },
  {
   "cell_type": "markdown",
   "id": "96baf84e",
   "metadata": {},
   "source": [
    "There are of course many other things in the pandas ecosystem. If you ever work with data in Python using pandas you will also appreciate the great documentation as well as the active community of pandas."
   ]
  },
  {
   "cell_type": "markdown",
   "id": "dc9047ff",
   "metadata": {},
   "source": [
    "### Scipy\n",
    "Scipy is a library for (their words) fundamental algorithms for scientific computing. We can use it for optimization, integration, interpolation, etc. It's a big ecosystem and has an active community.\n",
    "\n",
    "For more info, visit: https://scipy.org/\n",
    "\n",
    "I will not go into great detail of scipy, but just to showcase what you can use it for we will use scipy's numerical optimization tools to minimize a function."
   ]
  },
  {
   "cell_type": "code",
   "execution_count": 1,
   "id": "a79fff84",
   "metadata": {},
   "outputs": [
    {
     "data": {
      "text/plain": [
       "     fun: 0.0\n",
       "    nfev: 8\n",
       "     nit: 4\n",
       " success: True\n",
       "       x: 0.0"
      ]
     },
     "execution_count": 1,
     "metadata": {},
     "output_type": "execute_result"
    }
   ],
   "source": [
    "# Define function that we want to minimize\n",
    "def squareScalar(x):\n",
    "    return x ** 2\n",
    "\n",
    "# Import scalar minimization\n",
    "from scipy.optimize import minimize_scalar\n",
    "\n",
    "# Minimize function\n",
    "result = minimize_scalar(squareScalar, method='brent')\n",
    "result"
   ]
  }
 ],
 "metadata": {
  "kernelspec": {
   "display_name": "Python 3 (ipykernel)",
   "language": "python",
   "name": "python3"
  },
  "language_info": {
   "codemirror_mode": {
    "name": "ipython",
    "version": 3
   },
   "file_extension": ".py",
   "mimetype": "text/x-python",
   "name": "python",
   "nbconvert_exporter": "python",
   "pygments_lexer": "ipython3",
   "version": "3.8.5"
  }
 },
 "nbformat": 4,
 "nbformat_minor": 5
}
