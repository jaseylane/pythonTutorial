{
 "cells": [
  {
   "cell_type": "markdown",
   "id": "f1908d6c",
   "metadata": {},
   "source": [
    "# Lesson 3: Functions and flow of control\n",
    "In this lesson we want to have a look at function syntax as well as conditional statements.\n",
    "\n",
    "### Functions\n",
    "All function definitions start with `def`, then a space and the name of the function followed by `()`. Inside the brackets you can specify the input arguments. The function body starts after `:`."
   ]
  },
  {
   "cell_type": "code",
   "execution_count": 23,
   "id": "1d9b5945",
   "metadata": {},
   "outputs": [
    {
     "name": "stdout",
     "output_type": "stream",
     "text": [
      "<class 'function'>\n",
      "5\n"
     ]
    }
   ],
   "source": [
    "# Basic syntax of any function\n",
    "def square(x):\n",
    "    \"\"\"\n",
    "    This function takes as an argument a number and returns its square.\n",
    "    \"\"\"\n",
    "    \n",
    "    return x ** 2\n",
    "\n",
    "print(type(myFunc))\n",
    "print(myFunc(5))"
   ]
  },
  {
   "cell_type": "markdown",
   "id": "191d7d70",
   "metadata": {},
   "source": [
    "In the two print statements above there is an important difference. In the first statement, `myFunc` is not followed by `()` and is hence not *called*. When we write `myFunc()` we actually call (or execute) the function."
   ]
  },
  {
   "cell_type": "code",
   "execution_count": 24,
   "id": "41f589e1",
   "metadata": {},
   "outputs": [
    {
     "ename": "TypeError",
     "evalue": "myFunc() missing 1 required positional argument: 'x'",
     "output_type": "error",
     "traceback": [
      "\u001b[1;31m---------------------------------------------------------------------------\u001b[0m",
      "\u001b[1;31mTypeError\u001b[0m                                 Traceback (most recent call last)",
      "\u001b[1;32m~\\AppData\\Local\\Temp/ipykernel_15500/2684460433.py\u001b[0m in \u001b[0;36m<module>\u001b[1;34m\u001b[0m\n\u001b[1;32m----> 1\u001b[1;33m \u001b[0mmyFunc\u001b[0m\u001b[1;33m(\u001b[0m\u001b[1;33m)\u001b[0m\u001b[1;33m\u001b[0m\u001b[1;33m\u001b[0m\u001b[0m\n\u001b[0m",
      "\u001b[1;31mTypeError\u001b[0m: myFunc() missing 1 required positional argument: 'x'"
     ]
    }
   ],
   "source": [
    "myFunc()"
   ]
  },
  {
   "cell_type": "markdown",
   "id": "cdfc136a",
   "metadata": {},
   "source": [
    "Note how calling `myFunc` without an argument results in an error. The reason for this can be found in the way we defined the function; we require one positional argument when we call the function.\n",
    "\n",
    "Positional arguments must be passed in the correct order (hence the word *positional*). \n",
    "\n",
    "#### Positional arguments"
   ]
  },
  {
   "cell_type": "code",
   "execution_count": 25,
   "id": "2f39359f",
   "metadata": {},
   "outputs": [
    {
     "name": "stdout",
     "output_type": "stream",
     "text": [
      "Hi my name is Alice and I'm 23 years old.\n",
      "Hi my name is 23 and I'm Alice years old.\n"
     ]
    }
   ],
   "source": [
    "def info(name, age):\n",
    "    print('Hi my name is {} and I\\'m {} years old.'.format(name, age))\n",
    "    \n",
    "          \n",
    "info('Alice', 23)\n",
    "info(23, 'Alice') # The ordering of the input arguments does not make sense here."
   ]
  },
  {
   "cell_type": "markdown",
   "id": "99fb66da",
   "metadata": {},
   "source": [
    "#### Keyword arguments\n",
    "When we call a function and pass input arguments, we can reference them by the respective keyword of the function. If we do this, the order of inputs does not matter."
   ]
  },
  {
   "cell_type": "code",
   "execution_count": 26,
   "id": "cb07e273",
   "metadata": {},
   "outputs": [
    {
     "name": "stdout",
     "output_type": "stream",
     "text": [
      "Hi my name is Alice and I'm 23 years old.\n",
      "Hi my name is Alice and I'm 23 years old.\n"
     ]
    }
   ],
   "source": [
    "info(name='Alice', age=23)\n",
    "info(age=23, name='Alice') # The ordering of the input arguments does not matter here."
   ]
  },
  {
   "cell_type": "markdown",
   "id": "fe264a2d",
   "metadata": {},
   "source": [
    "Generally speaking, we want a function to end with a `return` statement that can be assigned to a variable or used for further computation. For example, we can assign the output of the `square` function to a variable."
   ]
  },
  {
   "cell_type": "code",
   "execution_count": 53,
   "id": "0bda0d1e",
   "metadata": {},
   "outputs": [
    {
     "name": "stdout",
     "output_type": "stream",
     "text": [
      "625\n"
     ]
    }
   ],
   "source": [
    "x = square(25)\n",
    "print(x)"
   ]
  },
  {
   "cell_type": "markdown",
   "id": "545e63ab",
   "metadata": {},
   "source": [
    "#### Lambda functions\n",
    "There is another kind of function in Python called *lambda* function which are typically used if we want to call the function only once and not use it again. You can think of it as a \"throwaway\" function. It has special syntax and might look something like this:"
   ]
  },
  {
   "cell_type": "code",
   "execution_count": 58,
   "id": "6710d078",
   "metadata": {},
   "outputs": [
    {
     "data": {
      "text/plain": [
       "4"
      ]
     },
     "execution_count": 58,
     "metadata": {},
     "output_type": "execute_result"
    }
   ],
   "source": [
    "x = lambda a, b: a + b\n",
    "x(2, 2)"
   ]
  },
  {
   "cell_type": "markdown",
   "id": "d234b53e",
   "metadata": {},
   "source": [
    "However, we will have some examples later illustrating the usefulness of lambda functions. We will leave it at that for now."
   ]
  },
  {
   "cell_type": "markdown",
   "id": "9a02eb9a",
   "metadata": {},
   "source": [
    "### If-else statements\n",
    "The syntax for if-else statements is straightforward in Python."
   ]
  },
  {
   "cell_type": "code",
   "execution_count": 34,
   "id": "41d13b5f",
   "metadata": {},
   "outputs": [
    {
     "name": "stdout",
     "output_type": "stream",
     "text": [
      "False\n",
      "True\n"
     ]
    }
   ],
   "source": [
    "def isEven(x):\n",
    "    \"\"\"\n",
    "    This function takes as an argument a number and returns True if it is even. Otherwise, return False.\n",
    "    \"\"\"\n",
    "    if x % 2 == 0: # if condition followed by semi-colon\n",
    "        return True\n",
    "    else:          # else condition followed by semi-colon\n",
    "        return False\n",
    "    \n",
    "print(isEven(5))\n",
    "print(isEven(2752))"
   ]
  },
  {
   "cell_type": "markdown",
   "id": "a8e86345",
   "metadata": {},
   "source": [
    "### Loops\n",
    "In Python there are two kinds of loops, `for` and `while` loops.\n",
    "\n",
    "Let's start with `for` loops. `for` loops need to be supplied with an `iterable` object over which to loop. I think as a rule of thumb: anything that can be indexed is an iterable over which you can loop. Let's look at a few examples."
   ]
  },
  {
   "cell_type": "code",
   "execution_count": 45,
   "id": "3c66687d",
   "metadata": {},
   "outputs": [
    {
     "name": "stdout",
     "output_type": "stream",
     "text": [
      "1\n",
      "2\n",
      "3\n",
      "4\n",
      "5\n"
     ]
    }
   ],
   "source": [
    "# We can also loop over lists\n",
    "myList = [1, 2, 3, 4, 5]\n",
    "\n",
    "for i in myList:\n",
    "    print(i)"
   ]
  },
  {
   "cell_type": "code",
   "execution_count": 46,
   "id": "63370ca7",
   "metadata": {},
   "outputs": [
    {
     "name": "stdout",
     "output_type": "stream",
     "text": [
      "a\n",
      "l\n",
      "p\n",
      "h\n",
      "a\n",
      "b\n",
      "e\n",
      "t\n"
     ]
    }
   ],
   "source": [
    "# Loop over strings\n",
    "for letter in 'alphabet':\n",
    "    print(letter)"
   ]
  },
  {
   "cell_type": "code",
   "execution_count": 47,
   "id": "a766207d",
   "metadata": {},
   "outputs": [
    {
     "name": "stdout",
     "output_type": "stream",
     "text": [
      "car road\n",
      "ship sea\n",
      "plane air\n"
     ]
    }
   ],
   "source": [
    "# We can also loop over dicts. Most of the time we want to access both the keys and the corresponding values.\n",
    "# We can do this by using the items() method on the dict.\n",
    "myDict = {'car': 'road',\n",
    "         'ship': 'sea',\n",
    "         'plane': 'air'}\n",
    "\n",
    "for key, value in myDict.items():\n",
    "    print(key, value)"
   ]
  },
  {
   "cell_type": "code",
   "execution_count": 48,
   "id": "8093dcaa",
   "metadata": {},
   "outputs": [
    {
     "name": "stdout",
     "output_type": "stream",
     "text": [
      "0\n",
      "1\n",
      "2\n",
      "3\n",
      "4\n",
      "5\n",
      "6\n",
      "7\n",
      "8\n",
      "9\n"
     ]
    }
   ],
   "source": [
    "# We can even loop over objects of class range\n",
    "for i in range(10): # for loops need an iterable object to loop over. In this case we used a object of class range.\n",
    "    print(i)   "
   ]
  },
  {
   "cell_type": "code",
   "execution_count": 51,
   "id": "dc350ce6",
   "metadata": {},
   "outputs": [
    {
     "name": "stdout",
     "output_type": "stream",
     "text": [
      "[0, 1, 4, 9, 16, 25, 36, 49, 64, 81]\n"
     ]
    }
   ],
   "source": [
    "# One last thing that is related to for loops is list comprehension. It's like a one-line for loop\n",
    "# that adds elements to a list.\n",
    "myList = [i**2 for i in range(10)]\n",
    "print(myList)"
   ]
  },
  {
   "cell_type": "code",
   "execution_count": null,
   "id": "ebda1d83",
   "metadata": {},
   "outputs": [],
   "source": []
  }
 ],
 "metadata": {
  "kernelspec": {
   "display_name": "Python 3 (ipykernel)",
   "language": "python",
   "name": "python3"
  },
  "language_info": {
   "codemirror_mode": {
    "name": "ipython",
    "version": 3
   },
   "file_extension": ".py",
   "mimetype": "text/x-python",
   "name": "python",
   "nbconvert_exporter": "python",
   "pygments_lexer": "ipython3",
   "version": "3.8.5"
  }
 },
 "nbformat": 4,
 "nbformat_minor": 5
}
