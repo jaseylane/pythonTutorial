{
 "cells": [
  {
   "cell_type": "markdown",
   "id": "c1effa1f",
   "metadata": {},
   "source": [
    "# Lesson 1: What is Python?\n",
    "\n",
    "Python is an general-purpose, object-oriented programming language. In and of itself Python is not very powerful, but the due to its open-source nature there is a plethora of powerful libraries available that help us get things done (efficiently).\n",
    "\n",
    "However, before looking at some useful libraries, we want to get a general understanding of how Python works. In particular, we will look at what 'object-orientied' means in Python since this will greatly facilitate understanding and working with Python.\n",
    "\n",
    "Learning outcomes:\n",
    "\n",
    "1. Understand that everything in Python is an object.\n",
    "2. Understand and work with object attributes.\n",
    "3. Define your own class, methods and properties."
   ]
  },
  {
   "cell_type": "markdown",
   "id": "98d40723",
   "metadata": {},
   "source": [
    "## 1. Everything is Python is an object.\n",
    "Let's investigate this statement using one of Python's in-built function called `type()`."
   ]
  },
  {
   "cell_type": "code",
   "execution_count": 4,
   "id": "dcc15aea",
   "metadata": {},
   "outputs": [
    {
     "name": "stdout",
     "output_type": "stream",
     "text": [
      "<class 'str'>\n"
     ]
    }
   ],
   "source": [
    "x = 'text'\n",
    "print(type(x))"
   ]
  },
  {
   "cell_type": "markdown",
   "id": "ca120e4d",
   "metadata": {},
   "source": [
    "There are two important parts in the output produced by `type(x)`. The first is `class` and the second is `'str'`. The way we should read this output is that `x` is an **object** of class `str`."
   ]
  },
  {
   "cell_type": "code",
   "execution_count": 5,
   "id": "893122fe",
   "metadata": {},
   "outputs": [
    {
     "name": "stdout",
     "output_type": "stream",
     "text": [
      "<class 'int'>\n",
      "<class 'float'>\n"
     ]
    }
   ],
   "source": [
    "# What about numbers?\n",
    "y = 1\n",
    "print(type(y))\n",
    "\n",
    "z = 3.5\n",
    "print(type(z))"
   ]
  },
  {
   "cell_type": "markdown",
   "id": "794195b0",
   "metadata": {},
   "source": [
    "Even numbers are objects of a particular class. In the case of integers, they are of class `int`, while decimal numbers are of type `float`.\n",
    "\n",
    "When we define a variable in Python, what we really do is we **instantiate** an object of a particular class. For example, by executing `y = 1` we instantiate an object of class `int` and give it the value `1`.\n",
    "\n",
    "Even functions are object. Let's look at a trivial example:"
   ]
  },
  {
   "cell_type": "code",
   "execution_count": 2,
   "id": "f4f0ede0",
   "metadata": {},
   "outputs": [
    {
     "name": "stdout",
     "output_type": "stream",
     "text": [
      "<class 'function'>\n"
     ]
    }
   ],
   "source": [
    "def hello():\n",
    "    print(\"Hello!\")\n",
    "    \n",
    "print(type(hello))"
   ]
  },
  {
   "cell_type": "markdown",
   "id": "4566a11a",
   "metadata": {},
   "source": [
    "# 2. Understand and work with object attributes\n",
    "Ok, so why does it matter? Well, the the class to which an object belongs determines how you can interact with the object (of that class). Since everything in Python is an object, we want to get a basic understanding of what a class is. "
   ]
  },
  {
   "cell_type": "code",
   "execution_count": 10,
   "id": "7bcb2dc8",
   "metadata": {},
   "outputs": [
    {
     "name": "stdout",
     "output_type": "stream",
     "text": [
      "<class 'list'>\n"
     ]
    },
    {
     "data": {
      "text/plain": [
       "['__add__',\n",
       " '__class__',\n",
       " '__contains__',\n",
       " '__delattr__',\n",
       " '__delitem__',\n",
       " '__dir__',\n",
       " '__doc__',\n",
       " '__eq__',\n",
       " '__format__',\n",
       " '__ge__',\n",
       " '__getattribute__',\n",
       " '__getitem__',\n",
       " '__gt__',\n",
       " '__hash__',\n",
       " '__iadd__',\n",
       " '__imul__',\n",
       " '__init__',\n",
       " '__init_subclass__',\n",
       " '__iter__',\n",
       " '__le__',\n",
       " '__len__',\n",
       " '__lt__',\n",
       " '__mul__',\n",
       " '__ne__',\n",
       " '__new__',\n",
       " '__reduce__',\n",
       " '__reduce_ex__',\n",
       " '__repr__',\n",
       " '__reversed__',\n",
       " '__rmul__',\n",
       " '__setattr__',\n",
       " '__setitem__',\n",
       " '__sizeof__',\n",
       " '__str__',\n",
       " '__subclasshook__',\n",
       " 'append',\n",
       " 'clear',\n",
       " 'copy',\n",
       " 'count',\n",
       " 'extend',\n",
       " 'index',\n",
       " 'insert',\n",
       " 'pop',\n",
       " 'remove',\n",
       " 'reverse',\n",
       " 'sort']"
      ]
     },
     "execution_count": 10,
     "metadata": {},
     "output_type": "execute_result"
    }
   ],
   "source": [
    "# Let's define an object of class 'list'\n",
    "x = [1, 2, 3]\n",
    "\n",
    "print(type(x))\n",
    "\n",
    "# List object attributes\n",
    "dir(x)"
   ]
  },
  {
   "cell_type": "markdown",
   "id": "251c3c2f",
   "metadata": {},
   "source": [
    "As you can see, there are two types of attributes:\n",
    "\n",
    "1. Those that start and end with double underscores: `__`\n",
    "2. Those that do not contain double underscores.\n",
    "\n",
    "The first are called *dunder* methods (for *d* ouble *under* score). They are special in Python but for the sake of an economist's work not hugely important. We will focus on the second category, which are usually referred to as *callable* attributes or *methods*.\n",
    "\n",
    "They can be described as functions acting on objects (i.e. instances of a particular class). For example, the method `append` can be used on a list object with the dot notation to add an element to it. In our case, if we wanted to add the number `4` to our list, we would simply execute"
   ]
  },
  {
   "cell_type": "code",
   "execution_count": 11,
   "id": "d4c83089",
   "metadata": {},
   "outputs": [
    {
     "name": "stdout",
     "output_type": "stream",
     "text": [
      "[1, 2, 3, 4]\n"
     ]
    }
   ],
   "source": [
    "x.append(4)\n",
    "print(x)"
   ]
  },
  {
   "cell_type": "markdown",
   "id": "c2605d06",
   "metadata": {},
   "source": [
    "Since the dot notation is very commonly used in Python, i.e. class methods are important, we want to understand how they work. In essence, when we use a method on an object we are making use of the definition of the class it belongs to. Note that the class definition includes all methods that can be used on an object belonging to it."
   ]
  },
  {
   "cell_type": "markdown",
   "id": "463bc924",
   "metadata": {},
   "source": [
    "## 3. Define your own class, methods and properties.\n",
    "Since this might be confusing, it is helpful to define our own class with properties and methods. For example, we could define a class representing "
   ]
  },
  {
   "cell_type": "code",
   "execution_count": 27,
   "id": "ab05b38d",
   "metadata": {},
   "outputs": [],
   "source": [
    "class Wallet:\n",
    "    \n",
    "    def __init__(self, status):\n",
    "        self.status = status\n",
    "        \n",
    "    def spend(self, money):\n",
    "        if self.status - money > 0:\n",
    "            self.status = self.status - money\n",
    "        else:\n",
    "            print(\"Can't spend {} euros since only {} euros left in wallet.\".format(self.status, money))\n",
    "            \n",
    "    def earn(self, money):\n",
    "        self.status = self.status + money\n",
    "        \n",
    "    def get_status(self):\n",
    "        return self.status"
   ]
  },
  {
   "cell_type": "markdown",
   "id": "bd2ff5ce",
   "metadata": {},
   "source": [
    "All of the examples we have seen so far are built-in types. You can think of them as being pre-defined. A cool feature in Python is that we can define our own classes/types."
   ]
  }
 ],
 "metadata": {
  "kernelspec": {
   "display_name": "Python 3 (ipykernel)",
   "language": "python",
   "name": "python3"
  },
  "language_info": {
   "codemirror_mode": {
    "name": "ipython",
    "version": 3
   },
   "file_extension": ".py",
   "mimetype": "text/x-python",
   "name": "python",
   "nbconvert_exporter": "python",
   "pygments_lexer": "ipython3",
   "version": "3.8.5"
  }
 },
 "nbformat": 4,
 "nbformat_minor": 5
}
