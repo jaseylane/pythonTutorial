{
 "cells": [
  {
   "cell_type": "markdown",
   "id": "c1effa1f",
   "metadata": {},
   "source": [
    "# Lesson 1: What is Python?\n",
    "\n",
    "Python is an general-purpose, object-oriented programming language. In and of itself Python is not very powerful, but the due to its open-source nature there is a plethora of powerful libraries available that help us get things done (efficiently).\n",
    "\n",
    "However, before looking at some useful libraries, we want to get a general understanding of how Python works. In particular, we will look at what 'object-orientied' means in Python since this will greatly facilitate understanding and working with Python.\n",
    "\n",
    "Learning outcomes:\n",
    "\n",
    "1. Understand that everything in Python is an object.\n",
    "2. Understand and work with object methods and attributes.\n",
    "3. Understand the relationship betwen classes and objects.\n",
    "4. Define your own class, methods and properties."
   ]
  },
  {
   "cell_type": "markdown",
   "id": "98d40723",
   "metadata": {},
   "source": [
    "## Everything is Python is an object.\n",
    "Let's investigate this statement using one of Python's in-built function called `type()`."
   ]
  },
  {
   "cell_type": "code",
   "execution_count": 4,
   "id": "dcc15aea",
   "metadata": {},
   "outputs": [
    {
     "name": "stdout",
     "output_type": "stream",
     "text": [
      "<class 'str'>\n"
     ]
    }
   ],
   "source": [
    "x = 'text'\n",
    "print(type(x))"
   ]
  },
  {
   "cell_type": "markdown",
   "id": "ca120e4d",
   "metadata": {},
   "source": [
    "There are two important parts in the output produced by `type(x)`. The first is `class` and the second is `'str'`. The way we should read this output is that `x` is an **object** of class `str`."
   ]
  },
  {
   "cell_type": "code",
   "execution_count": 5,
   "id": "893122fe",
   "metadata": {},
   "outputs": [
    {
     "name": "stdout",
     "output_type": "stream",
     "text": [
      "<class 'int'>\n",
      "<class 'float'>\n"
     ]
    }
   ],
   "source": [
    "# What about numbers?\n",
    "y = 1\n",
    "print(type(y))\n",
    "\n",
    "z = 3.5\n",
    "print(type(z))"
   ]
  },
  {
   "cell_type": "markdown",
   "id": "794195b0",
   "metadata": {},
   "source": [
    "Even numbers are objects of a particular class. In the case of integers, they are of class `int`, while decimal numbers are of type `float`.\n",
    "\n",
    "When we define a variable in Python, what we really do is we **instantiate** an object of a particular class. For example, by executing `y = 1` we instantiate an object of class `int` and give it the value `1`.\n",
    "\n",
    "Even functions are object. Let's look at a trivial example:"
   ]
  },
  {
   "cell_type": "code",
   "execution_count": 7,
   "id": "f4f0ede0",
   "metadata": {},
   "outputs": [
    {
     "name": "stdout",
     "output_type": "stream",
     "text": [
      "<class 'function'>\n"
     ]
    }
   ],
   "source": [
    "def hello():\n",
    "    print(\"Hello!\")\n",
    "    \n",
    "print(type(hello))"
   ]
  },
  {
   "cell_type": "markdown",
   "id": "884728b3",
   "metadata": {},
   "source": [
    "Ok, so why does it matter? Well, the definition of a class determines how you can interact with the object (of that class). Since everything in Python is an object, we want to get a basic understanding of what a class is. "
   ]
  },
  {
   "cell_type": "code",
   "execution_count": 19,
   "id": "7bcb2dc8",
   "metadata": {},
   "outputs": [
    {
     "data": {
      "text/plain": [
       "['__abs__',\n",
       " '__add__',\n",
       " '__and__',\n",
       " '__bool__',\n",
       " '__ceil__',\n",
       " '__class__',\n",
       " '__delattr__',\n",
       " '__dir__',\n",
       " '__divmod__',\n",
       " '__doc__',\n",
       " '__eq__',\n",
       " '__float__',\n",
       " '__floor__',\n",
       " '__floordiv__',\n",
       " '__format__',\n",
       " '__ge__',\n",
       " '__getattribute__',\n",
       " '__getnewargs__',\n",
       " '__gt__',\n",
       " '__hash__',\n",
       " '__index__',\n",
       " '__init__',\n",
       " '__init_subclass__',\n",
       " '__int__',\n",
       " '__invert__',\n",
       " '__le__',\n",
       " '__lshift__',\n",
       " '__lt__',\n",
       " '__mod__',\n",
       " '__mul__',\n",
       " '__ne__',\n",
       " '__neg__',\n",
       " '__new__',\n",
       " '__or__',\n",
       " '__pos__',\n",
       " '__pow__',\n",
       " '__radd__',\n",
       " '__rand__',\n",
       " '__rdivmod__',\n",
       " '__reduce__',\n",
       " '__reduce_ex__',\n",
       " '__repr__',\n",
       " '__rfloordiv__',\n",
       " '__rlshift__',\n",
       " '__rmod__',\n",
       " '__rmul__',\n",
       " '__ror__',\n",
       " '__round__',\n",
       " '__rpow__',\n",
       " '__rrshift__',\n",
       " '__rshift__',\n",
       " '__rsub__',\n",
       " '__rtruediv__',\n",
       " '__rxor__',\n",
       " '__setattr__',\n",
       " '__sizeof__',\n",
       " '__str__',\n",
       " '__sub__',\n",
       " '__subclasshook__',\n",
       " '__truediv__',\n",
       " '__trunc__',\n",
       " '__xor__',\n",
       " 'as_integer_ratio',\n",
       " 'bit_length',\n",
       " 'conjugate',\n",
       " 'denominator',\n",
       " 'from_bytes',\n",
       " 'imag',\n",
       " 'numerator',\n",
       " 'real',\n",
       " 'to_bytes']"
      ]
     },
     "execution_count": 19,
     "metadata": {},
     "output_type": "execute_result"
    }
   ],
   "source": [
    "x = 1\n",
    "dir(x)"
   ]
  },
  {
   "cell_type": "code",
   "execution_count": null,
   "id": "cbbf377d",
   "metadata": {},
   "outputs": [],
   "source": []
  },
  {
   "cell_type": "code",
   "execution_count": null,
   "id": "d4c83089",
   "metadata": {},
   "outputs": [],
   "source": []
  },
  {
   "cell_type": "markdown",
   "id": "463bc924",
   "metadata": {},
   "source": [
    "## Let's define our own class"
   ]
  },
  {
   "cell_type": "code",
   "execution_count": 20,
   "id": "ac7cdf99",
   "metadata": {},
   "outputs": [],
   "source": [
    "class Consumer:\n",
    "    \n",
    "    def __init__(self, w):\n",
    "        self.wealth = w \n",
    "        \n",
    "    def earn(self, y):\n",
    "        \"The consumer earns y dollars\"\n",
    "        self.wealth += y\n",
    "\n",
    "    def spend(self, x):\n",
    "        \"The consumer spends x dollars if feasible\"\n",
    "        new_wealth = self.wealth - x\n",
    "        if new_wealth < 0:\n",
    "            print(\"Insufficent funds\")\n",
    "        else:\n",
    "            self.wealth = new_wealth"
   ]
  },
  {
   "cell_type": "code",
   "execution_count": 27,
   "id": "ab05b38d",
   "metadata": {},
   "outputs": [
    {
     "data": {
      "text/plain": [
       "True"
      ]
     },
     "execution_count": 27,
     "metadata": {},
     "output_type": "execute_result"
    }
   ],
   "source": [
    "c1 = Consumer(50)\n",
    "callable(c1.spend)"
   ]
  },
  {
   "cell_type": "code",
   "execution_count": null,
   "id": "f53d4ed3",
   "metadata": {},
   "outputs": [],
   "source": []
  },
  {
   "cell_type": "markdown",
   "id": "921ee692",
   "metadata": {},
   "source": [
    "All of the examples we have seen so far are built-in types. You can think of them as being pre-defined. A cool feature in Python is that we can define our own classes/types."
   ]
  },
  {
   "cell_type": "code",
   "execution_count": null,
   "id": "a32e5621",
   "metadata": {},
   "outputs": [],
   "source": []
  }
 ],
 "metadata": {
  "kernelspec": {
   "display_name": "Python 3 (ipykernel)",
   "language": "python",
   "name": "python3"
  },
  "language_info": {
   "codemirror_mode": {
    "name": "ipython",
    "version": 3
   },
   "file_extension": ".py",
   "mimetype": "text/x-python",
   "name": "python",
   "nbconvert_exporter": "python",
   "pygments_lexer": "ipython3",
   "version": "3.8.5"
  }
 },
 "nbformat": 4,
 "nbformat_minor": 5
}
