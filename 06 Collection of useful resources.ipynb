{
 "cells": [
  {
   "cell_type": "markdown",
   "id": "ed2dbb43",
   "metadata": {},
   "source": [
    "# Appendix: Collection of useful resources and packages\n",
    "I want to provide a list of useful resources in case you wanna tackle your own project in Python.\n",
    "\n",
    "I'll start off with (1) some useful learning resources I used and (2) useful packages."
   ]
  },
  {
   "cell_type": "markdown",
   "id": "37d187b5",
   "metadata": {},
   "source": [
    "### (1) Learning resources\n",
    "\n",
    "1. General Python tutorial, including much more than just econ/data analysis: https://www.pythonprogramming.net/\n",
    "2. Tutorials as well as replication of papers (great resource imo): https://quantecon.org/\n",
    "3. Comprehensive tutorial on numpy and pandas: https://www.youtube.com/watch?v=GPVsHOlRBBI"
   ]
  },
  {
   "cell_type": "markdown",
   "id": "5ef83e7f",
   "metadata": {},
   "source": [
    "### (2) Packages, organized by topic*\n",
    "\n",
    "1. Scientific computing: https://numpy.org/\n",
    "2. Data analysis: https://pandas.pydata.org/\n",
    "3. Scientific algorithms (optimization, integration, etc.): https://scipy.org/\n",
    "4. Statistical models: https://www.statsmodels.org/stable/index.html\n",
    "5. Machine learning: https://scikit-learn.org/stable/\n",
    "6. (RAM-efficient) Natural language processing: https://radimrehurek.com/gensim/\n",
    "7. Lots of useful econ model implementations: https://quantecon.org/quantecon-py/\n",
    "8. Web scraping (1): https://beautiful-soup-4.readthedocs.io/en/latest/\n",
    "9. Web scraping (2): https://selenium-python.readthedocs.io/\n",
    "\n",
    "\\* This is **not** an exhaustive list. Neither is list based on objective criteria. These libraries are my personal recommendation. While they are widely used and supported, you might prefer other libraries for ease-of-use or other reasons. In any case, they are a good start I hope!"
   ]
  }
 ],
 "metadata": {
  "kernelspec": {
   "display_name": "Python 3 (ipykernel)",
   "language": "python",
   "name": "python3"
  },
  "language_info": {
   "codemirror_mode": {
    "name": "ipython",
    "version": 3
   },
   "file_extension": ".py",
   "mimetype": "text/x-python",
   "name": "python",
   "nbconvert_exporter": "python",
   "pygments_lexer": "ipython3",
   "version": "3.8.5"
  }
 },
 "nbformat": 4,
 "nbformat_minor": 5
}
